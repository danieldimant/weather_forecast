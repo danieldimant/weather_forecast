{
 "cells": [
  {
   "cell_type": "markdown",
   "metadata": {},
   "source": [
    "###### © 2020 Daniel Dimant All Rights Reserved"
   ]
  },
  {
   "cell_type": "markdown",
   "metadata": {},
   "source": [
    "## In this project, we will attempt to predict the probability to rain in the next hour"
   ]
  },
  {
   "cell_type": "markdown",
   "metadata": {},
   "source": [
    "## Contents of the Notebook:\n",
    "\n",
    "<b> Part 1: Exploratory Data Analysis(EDA):</b>\n",
    "\n",
    "1. Analysis of the features.\n",
    "\n",
    "2. Finding any relations or trends considering multiple features.\n",
    "\n",
    "<b>Part 2: Feature Engineering and Data Cleaning:</b>\n",
    "1. Adding any few features.\n",
    "\n",
    "2. Removing redundant features.\n",
    "\n",
    "3. Converting features into suitable form for modeling.\n",
    "\n",
    "<b>Part 3: Predictive Modeling</b>\n",
    "\n",
    "1. Running Basic Algorithms.\n",
    "\n",
    "2. Cross Validation and Hyperparameters tuning"
   ]
  },
  {
   "cell_type": "code",
   "execution_count": null,
   "metadata": {},
   "outputs": [],
   "source": [
    "import pandas as pd\n",
    "import numpy as np\n",
    "import matplotlib.pyplot as plt\n",
    "%matplotlib inline\n",
    "import seaborn as sns\n",
    "from sklearn.preprocessing import StandardScaler\n",
    "from sklearn.feature_selection import RFE\n",
    "from sklearn.model_selection import StratifiedKFold, cross_val_score, train_test_split, GridSearchCV\n",
    "from sklearn.ensemble import RandomForestClassifier\n",
    "from sklearn.metrics import roc_curve, auc, classification_report, confusion_matrix\n",
    "from sklearn.linear_model import LogisticRegression\n",
    "from sklearn.neighbors import KNeighborsClassifier \n",
    "from sklearn.tree import DecisionTreeClassifier\n",
    "from sklearn import svm \n",
    "import warnings\n",
    "warnings.filterwarnings(\"ignore\")"
   ]
  },
  {
   "cell_type": "markdown",
   "metadata": {},
   "source": [
    "# Exploratory Data Analysis(EDA)"
   ]
  },
  {
   "cell_type": "code",
   "execution_count": 99,
   "metadata": {},
   "outputs": [],
   "source": [
    "df = pd.read_csv('weather_forecast.csv')"
   ]
  },
  {
   "cell_type": "code",
   "execution_count": 100,
   "metadata": {},
   "outputs": [
    {
     "data": {
      "text/html": [
       "<div>\n",
       "<style scoped>\n",
       "    .dataframe tbody tr th:only-of-type {\n",
       "        vertical-align: middle;\n",
       "    }\n",
       "\n",
       "    .dataframe tbody tr th {\n",
       "        vertical-align: top;\n",
       "    }\n",
       "\n",
       "    .dataframe thead th {\n",
       "        text-align: right;\n",
       "    }\n",
       "</style>\n",
       "<table border=\"1\" class=\"dataframe\">\n",
       "  <thead>\n",
       "    <tr style=\"text-align: right;\">\n",
       "      <th></th>\n",
       "      <th>time</th>\n",
       "      <th>ghi</th>\n",
       "      <th>dni</th>\n",
       "      <th>dhi</th>\n",
       "      <th>air_temperature</th>\n",
       "      <th>relative_humidity</th>\n",
       "      <th>wind_speed</th>\n",
       "      <th>wind_speed_of_gust</th>\n",
       "      <th>wind_from_direction_st_dev</th>\n",
       "      <th>wind_from_direction</th>\n",
       "      <th>barometric_pressure</th>\n",
       "      <th>rain</th>\n",
       "      <th>sensor_cleaning</th>\n",
       "      <th>comments</th>\n",
       "    </tr>\n",
       "  </thead>\n",
       "  <tbody>\n",
       "    <tr>\n",
       "      <th>0</th>\n",
       "      <td>01/07/18 00:01</td>\n",
       "      <td>0.0</td>\n",
       "      <td>0.0</td>\n",
       "      <td>0.0</td>\n",
       "      <td>28.1</td>\n",
       "      <td>89.3</td>\n",
       "      <td>1.2</td>\n",
       "      <td>1.6</td>\n",
       "      <td>0.0</td>\n",
       "      <td>82.5</td>\n",
       "      <td>982.9</td>\n",
       "      <td>0.0</td>\n",
       "      <td>0</td>\n",
       "      <td>NaN</td>\n",
       "    </tr>\n",
       "    <tr>\n",
       "      <th>1</th>\n",
       "      <td>01/07/18 00:02</td>\n",
       "      <td>0.0</td>\n",
       "      <td>0.0</td>\n",
       "      <td>0.0</td>\n",
       "      <td>28.1</td>\n",
       "      <td>89.3</td>\n",
       "      <td>0.9</td>\n",
       "      <td>1.6</td>\n",
       "      <td>0.0</td>\n",
       "      <td>82.5</td>\n",
       "      <td>982.8</td>\n",
       "      <td>0.0</td>\n",
       "      <td>0</td>\n",
       "      <td>NaN</td>\n",
       "    </tr>\n",
       "    <tr>\n",
       "      <th>2</th>\n",
       "      <td>01/07/18 00:03</td>\n",
       "      <td>0.0</td>\n",
       "      <td>0.0</td>\n",
       "      <td>0.0</td>\n",
       "      <td>28.1</td>\n",
       "      <td>89.4</td>\n",
       "      <td>0.9</td>\n",
       "      <td>1.3</td>\n",
       "      <td>0.0</td>\n",
       "      <td>82.5</td>\n",
       "      <td>982.9</td>\n",
       "      <td>0.0</td>\n",
       "      <td>0</td>\n",
       "      <td>NaN</td>\n",
       "    </tr>\n",
       "    <tr>\n",
       "      <th>3</th>\n",
       "      <td>01/07/18 00:04</td>\n",
       "      <td>0.0</td>\n",
       "      <td>0.0</td>\n",
       "      <td>0.0</td>\n",
       "      <td>28.1</td>\n",
       "      <td>89.3</td>\n",
       "      <td>1.1</td>\n",
       "      <td>1.6</td>\n",
       "      <td>0.0</td>\n",
       "      <td>82.6</td>\n",
       "      <td>982.8</td>\n",
       "      <td>0.0</td>\n",
       "      <td>0</td>\n",
       "      <td>NaN</td>\n",
       "    </tr>\n",
       "    <tr>\n",
       "      <th>4</th>\n",
       "      <td>01/07/18 00:05</td>\n",
       "      <td>0.0</td>\n",
       "      <td>0.0</td>\n",
       "      <td>0.0</td>\n",
       "      <td>28.1</td>\n",
       "      <td>89.6</td>\n",
       "      <td>1.2</td>\n",
       "      <td>1.8</td>\n",
       "      <td>0.1</td>\n",
       "      <td>82.6</td>\n",
       "      <td>982.9</td>\n",
       "      <td>0.0</td>\n",
       "      <td>0</td>\n",
       "      <td>NaN</td>\n",
       "    </tr>\n",
       "  </tbody>\n",
       "</table>\n",
       "</div>"
      ],
      "text/plain": [
       "             time  ghi  dni  dhi  air_temperature  relative_humidity  \\\n",
       "0  01/07/18 00:01  0.0  0.0  0.0             28.1               89.3   \n",
       "1  01/07/18 00:02  0.0  0.0  0.0             28.1               89.3   \n",
       "2  01/07/18 00:03  0.0  0.0  0.0             28.1               89.4   \n",
       "3  01/07/18 00:04  0.0  0.0  0.0             28.1               89.3   \n",
       "4  01/07/18 00:05  0.0  0.0  0.0             28.1               89.6   \n",
       "\n",
       "   wind_speed  wind_speed_of_gust  wind_from_direction_st_dev  \\\n",
       "0         1.2                 1.6                         0.0   \n",
       "1         0.9                 1.6                         0.0   \n",
       "2         0.9                 1.3                         0.0   \n",
       "3         1.1                 1.6                         0.0   \n",
       "4         1.2                 1.8                         0.1   \n",
       "\n",
       "   wind_from_direction  barometric_pressure  rain  sensor_cleaning comments  \n",
       "0                 82.5                982.9   0.0                0      NaN  \n",
       "1                 82.5                982.8   0.0                0      NaN  \n",
       "2                 82.5                982.9   0.0                0      NaN  \n",
       "3                 82.6                982.8   0.0                0      NaN  \n",
       "4                 82.6                982.9   0.0                0      NaN  "
      ]
     },
     "execution_count": 100,
     "metadata": {},
     "output_type": "execute_result"
    }
   ],
   "source": [
    "df.head()"
   ]
  },
  {
   "cell_type": "code",
   "execution_count": 4,
   "metadata": {},
   "outputs": [],
   "source": [
    "# Drop comments coloumn\n",
    "df.drop('comments', axis=1, inplace=True)"
   ]
  },
  {
   "cell_type": "code",
   "execution_count": 5,
   "metadata": {},
   "outputs": [],
   "source": [
    "# Convert time column from string to datetime type\n",
    "df.time = pd.to_datetime(df.time)"
   ]
  },
  {
   "cell_type": "code",
   "execution_count": 6,
   "metadata": {},
   "outputs": [],
   "source": [
    "# Check if there are missing values \n",
    "def missing_data(data):\n",
    "    total = data.isnull().sum()\n",
    "    percent = (data.isnull().sum()/data.isnull().count()*100)\n",
    "    tt = pd.concat([total, percent], axis=1, keys=['Total', 'Percent'])\n",
    "    types = []\n",
    "    for col in data.columns:\n",
    "        dtype = str(data[col].dtype)\n",
    "        types.append(dtype)\n",
    "    tt['Types'] = types\n",
    "    return(np.transpose(tt))"
   ]
  },
  {
   "cell_type": "code",
   "execution_count": 7,
   "metadata": {},
   "outputs": [
    {
     "data": {
      "text/html": [
       "<div>\n",
       "<style scoped>\n",
       "    .dataframe tbody tr th:only-of-type {\n",
       "        vertical-align: middle;\n",
       "    }\n",
       "\n",
       "    .dataframe tbody tr th {\n",
       "        vertical-align: top;\n",
       "    }\n",
       "\n",
       "    .dataframe thead th {\n",
       "        text-align: right;\n",
       "    }\n",
       "</style>\n",
       "<table border=\"1\" class=\"dataframe\">\n",
       "  <thead>\n",
       "    <tr style=\"text-align: right;\">\n",
       "      <th></th>\n",
       "      <th>time</th>\n",
       "      <th>ghi</th>\n",
       "      <th>dni</th>\n",
       "      <th>dhi</th>\n",
       "      <th>air_temperature</th>\n",
       "      <th>relative_humidity</th>\n",
       "      <th>wind_speed</th>\n",
       "      <th>wind_speed_of_gust</th>\n",
       "      <th>wind_from_direction_st_dev</th>\n",
       "      <th>wind_from_direction</th>\n",
       "      <th>barometric_pressure</th>\n",
       "      <th>rain</th>\n",
       "      <th>sensor_cleaning</th>\n",
       "    </tr>\n",
       "  </thead>\n",
       "  <tbody>\n",
       "    <tr>\n",
       "      <th>Total</th>\n",
       "      <td>0</td>\n",
       "      <td>0</td>\n",
       "      <td>0</td>\n",
       "      <td>0</td>\n",
       "      <td>0</td>\n",
       "      <td>0</td>\n",
       "      <td>0</td>\n",
       "      <td>0</td>\n",
       "      <td>0</td>\n",
       "      <td>0</td>\n",
       "      <td>0</td>\n",
       "      <td>0</td>\n",
       "      <td>0</td>\n",
       "    </tr>\n",
       "    <tr>\n",
       "      <th>Percent</th>\n",
       "      <td>0</td>\n",
       "      <td>0</td>\n",
       "      <td>0</td>\n",
       "      <td>0</td>\n",
       "      <td>0</td>\n",
       "      <td>0</td>\n",
       "      <td>0</td>\n",
       "      <td>0</td>\n",
       "      <td>0</td>\n",
       "      <td>0</td>\n",
       "      <td>0</td>\n",
       "      <td>0</td>\n",
       "      <td>0</td>\n",
       "    </tr>\n",
       "    <tr>\n",
       "      <th>Types</th>\n",
       "      <td>datetime64[ns]</td>\n",
       "      <td>float64</td>\n",
       "      <td>float64</td>\n",
       "      <td>float64</td>\n",
       "      <td>float64</td>\n",
       "      <td>float64</td>\n",
       "      <td>float64</td>\n",
       "      <td>float64</td>\n",
       "      <td>float64</td>\n",
       "      <td>float64</td>\n",
       "      <td>float64</td>\n",
       "      <td>float64</td>\n",
       "      <td>int64</td>\n",
       "    </tr>\n",
       "  </tbody>\n",
       "</table>\n",
       "</div>"
      ],
      "text/plain": [
       "                   time      ghi      dni      dhi air_temperature  \\\n",
       "Total                 0        0        0        0               0   \n",
       "Percent               0        0        0        0               0   \n",
       "Types    datetime64[ns]  float64  float64  float64         float64   \n",
       "\n",
       "        relative_humidity wind_speed wind_speed_of_gust  \\\n",
       "Total                   0          0                  0   \n",
       "Percent                 0          0                  0   \n",
       "Types             float64    float64            float64   \n",
       "\n",
       "        wind_from_direction_st_dev wind_from_direction barometric_pressure  \\\n",
       "Total                            0                   0                   0   \n",
       "Percent                          0                   0                   0   \n",
       "Types                      float64             float64             float64   \n",
       "\n",
       "            rain sensor_cleaning  \n",
       "Total          0               0  \n",
       "Percent        0               0  \n",
       "Types    float64           int64  "
      ]
     },
     "execution_count": 7,
     "metadata": {},
     "output_type": "execute_result"
    }
   ],
   "source": [
    "missing_data(df)"
   ]
  },
  {
   "cell_type": "markdown",
   "metadata": {},
   "source": [
    "There aren't any missing values.\n",
    "\n",
    "Let's look at some statistics of each column"
   ]
  },
  {
   "cell_type": "code",
   "execution_count": 8,
   "metadata": {},
   "outputs": [
    {
     "data": {
      "text/html": [
       "<div>\n",
       "<style scoped>\n",
       "    .dataframe tbody tr th:only-of-type {\n",
       "        vertical-align: middle;\n",
       "    }\n",
       "\n",
       "    .dataframe tbody tr th {\n",
       "        vertical-align: top;\n",
       "    }\n",
       "\n",
       "    .dataframe thead th {\n",
       "        text-align: right;\n",
       "    }\n",
       "</style>\n",
       "<table border=\"1\" class=\"dataframe\">\n",
       "  <thead>\n",
       "    <tr style=\"text-align: right;\">\n",
       "      <th></th>\n",
       "      <th>ghi</th>\n",
       "      <th>dni</th>\n",
       "      <th>dhi</th>\n",
       "      <th>air_temperature</th>\n",
       "      <th>relative_humidity</th>\n",
       "      <th>wind_speed</th>\n",
       "      <th>wind_speed_of_gust</th>\n",
       "      <th>wind_from_direction_st_dev</th>\n",
       "      <th>wind_from_direction</th>\n",
       "      <th>barometric_pressure</th>\n",
       "      <th>rain</th>\n",
       "      <th>sensor_cleaning</th>\n",
       "    </tr>\n",
       "  </thead>\n",
       "  <tbody>\n",
       "    <tr>\n",
       "      <th>count</th>\n",
       "      <td>614880.000000</td>\n",
       "      <td>614880.000000</td>\n",
       "      <td>614880.000000</td>\n",
       "      <td>614880.000000</td>\n",
       "      <td>614880.000000</td>\n",
       "      <td>614880.000000</td>\n",
       "      <td>614880.000000</td>\n",
       "      <td>614880.000000</td>\n",
       "      <td>614880.000000</td>\n",
       "      <td>614880.000000</td>\n",
       "      <td>614880.000000</td>\n",
       "      <td>614880.000000</td>\n",
       "    </tr>\n",
       "    <tr>\n",
       "      <th>mean</th>\n",
       "      <td>198.021850</td>\n",
       "      <td>145.374776</td>\n",
       "      <td>97.742826</td>\n",
       "      <td>25.010465</td>\n",
       "      <td>74.606286</td>\n",
       "      <td>1.515790</td>\n",
       "      <td>2.141400</td>\n",
       "      <td>5.461113</td>\n",
       "      <td>135.784080</td>\n",
       "      <td>989.277401</td>\n",
       "      <td>0.002521</td>\n",
       "      <td>0.000564</td>\n",
       "    </tr>\n",
       "    <tr>\n",
       "      <th>std</th>\n",
       "      <td>284.862307</td>\n",
       "      <td>239.416905</td>\n",
       "      <td>133.248368</td>\n",
       "      <td>7.503255</td>\n",
       "      <td>21.787799</td>\n",
       "      <td>1.377934</td>\n",
       "      <td>1.785418</td>\n",
       "      <td>6.806879</td>\n",
       "      <td>113.321473</td>\n",
       "      <td>7.186049</td>\n",
       "      <td>0.046961</td>\n",
       "      <td>0.023749</td>\n",
       "    </tr>\n",
       "    <tr>\n",
       "      <th>min</th>\n",
       "      <td>0.000000</td>\n",
       "      <td>0.000000</td>\n",
       "      <td>0.000000</td>\n",
       "      <td>2.800000</td>\n",
       "      <td>8.700000</td>\n",
       "      <td>0.000000</td>\n",
       "      <td>0.000000</td>\n",
       "      <td>0.000000</td>\n",
       "      <td>0.000000</td>\n",
       "      <td>974.500000</td>\n",
       "      <td>0.000000</td>\n",
       "      <td>0.000000</td>\n",
       "    </tr>\n",
       "    <tr>\n",
       "      <th>25%</th>\n",
       "      <td>0.000000</td>\n",
       "      <td>0.000000</td>\n",
       "      <td>0.000000</td>\n",
       "      <td>19.800000</td>\n",
       "      <td>58.500000</td>\n",
       "      <td>0.200000</td>\n",
       "      <td>1.100000</td>\n",
       "      <td>0.000000</td>\n",
       "      <td>34.000000</td>\n",
       "      <td>982.800000</td>\n",
       "      <td>0.000000</td>\n",
       "      <td>0.000000</td>\n",
       "    </tr>\n",
       "    <tr>\n",
       "      <th>50%</th>\n",
       "      <td>2.500000</td>\n",
       "      <td>0.000000</td>\n",
       "      <td>2.200000</td>\n",
       "      <td>26.800000</td>\n",
       "      <td>81.150000</td>\n",
       "      <td>1.400000</td>\n",
       "      <td>1.800000</td>\n",
       "      <td>2.400000</td>\n",
       "      <td>117.200000</td>\n",
       "      <td>988.500000</td>\n",
       "      <td>0.000000</td>\n",
       "      <td>0.000000</td>\n",
       "    </tr>\n",
       "    <tr>\n",
       "      <th>75%</th>\n",
       "      <td>360.100000</td>\n",
       "      <td>256.700000</td>\n",
       "      <td>182.100000</td>\n",
       "      <td>30.200000</td>\n",
       "      <td>93.500000</td>\n",
       "      <td>2.200000</td>\n",
       "      <td>2.900000</td>\n",
       "      <td>9.800000</td>\n",
       "      <td>247.400000</td>\n",
       "      <td>995.900000</td>\n",
       "      <td>0.000000</td>\n",
       "      <td>0.000000</td>\n",
       "    </tr>\n",
       "    <tr>\n",
       "      <th>max</th>\n",
       "      <td>1395.000000</td>\n",
       "      <td>971.000000</td>\n",
       "      <td>1015.000000</td>\n",
       "      <td>42.700000</td>\n",
       "      <td>100.000000</td>\n",
       "      <td>19.500000</td>\n",
       "      <td>24.600000</td>\n",
       "      <td>98.300000</td>\n",
       "      <td>360.000000</td>\n",
       "      <td>1005.400000</td>\n",
       "      <td>18.500000</td>\n",
       "      <td>1.000000</td>\n",
       "    </tr>\n",
       "  </tbody>\n",
       "</table>\n",
       "</div>"
      ],
      "text/plain": [
       "                 ghi            dni            dhi  air_temperature  \\\n",
       "count  614880.000000  614880.000000  614880.000000    614880.000000   \n",
       "mean      198.021850     145.374776      97.742826        25.010465   \n",
       "std       284.862307     239.416905     133.248368         7.503255   \n",
       "min         0.000000       0.000000       0.000000         2.800000   \n",
       "25%         0.000000       0.000000       0.000000        19.800000   \n",
       "50%         2.500000       0.000000       2.200000        26.800000   \n",
       "75%       360.100000     256.700000     182.100000        30.200000   \n",
       "max      1395.000000     971.000000    1015.000000        42.700000   \n",
       "\n",
       "       relative_humidity     wind_speed  wind_speed_of_gust  \\\n",
       "count      614880.000000  614880.000000       614880.000000   \n",
       "mean           74.606286       1.515790            2.141400   \n",
       "std            21.787799       1.377934            1.785418   \n",
       "min             8.700000       0.000000            0.000000   \n",
       "25%            58.500000       0.200000            1.100000   \n",
       "50%            81.150000       1.400000            1.800000   \n",
       "75%            93.500000       2.200000            2.900000   \n",
       "max           100.000000      19.500000           24.600000   \n",
       "\n",
       "       wind_from_direction_st_dev  wind_from_direction  barometric_pressure  \\\n",
       "count               614880.000000        614880.000000        614880.000000   \n",
       "mean                     5.461113           135.784080           989.277401   \n",
       "std                      6.806879           113.321473             7.186049   \n",
       "min                      0.000000             0.000000           974.500000   \n",
       "25%                      0.000000            34.000000           982.800000   \n",
       "50%                      2.400000           117.200000           988.500000   \n",
       "75%                      9.800000           247.400000           995.900000   \n",
       "max                     98.300000           360.000000          1005.400000   \n",
       "\n",
       "                rain  sensor_cleaning  \n",
       "count  614880.000000    614880.000000  \n",
       "mean        0.002521         0.000564  \n",
       "std         0.046961         0.023749  \n",
       "min         0.000000         0.000000  \n",
       "25%         0.000000         0.000000  \n",
       "50%         0.000000         0.000000  \n",
       "75%         0.000000         0.000000  \n",
       "max        18.500000         1.000000  "
      ]
     },
     "execution_count": 8,
     "metadata": {},
     "output_type": "execute_result"
    }
   ],
   "source": [
    "df.describe()"
   ]
  },
  {
   "cell_type": "markdown",
   "metadata": {},
   "source": [
    "We can see that sensor_cleaning values are mostly 0 so we will drop this column"
   ]
  },
  {
   "cell_type": "code",
   "execution_count": 9,
   "metadata": {},
   "outputs": [],
   "source": [
    "df.drop('sensor_cleaning', axis=1, inplace=True)"
   ]
  },
  {
   "cell_type": "markdown",
   "metadata": {},
   "source": [
    "Let's look at the distribution of rain column"
   ]
  },
  {
   "cell_type": "code",
   "execution_count": 10,
   "metadata": {},
   "outputs": [
    {
     "data": {
      "text/plain": [
       "0.0     607877\n",
       "0.1       4398\n",
       "0.2       1009\n",
       "0.3        507\n",
       "0.4        326\n",
       "0.5        227\n",
       "0.6        127\n",
       "0.7        114\n",
       "0.8         66\n",
       "0.9         52\n",
       "1.0         40\n",
       "1.1         36\n",
       "1.2         27\n",
       "1.3         26\n",
       "1.4         14\n",
       "1.5          8\n",
       "1.8          7\n",
       "1.6          6\n",
       "2.0          4\n",
       "1.9          3\n",
       "1.7          2\n",
       "2.2          1\n",
       "18.5         1\n",
       "17.3         1\n",
       "2.5          1\n",
       "Name: rain, dtype: int64"
      ]
     },
     "execution_count": 10,
     "metadata": {},
     "output_type": "execute_result"
    }
   ],
   "source": [
    "df.rain.value_counts()"
   ]
  },
  {
   "cell_type": "markdown",
   "metadata": {},
   "source": [
    "## Correlation Between The Features"
   ]
  },
  {
   "cell_type": "code",
   "execution_count": 11,
   "metadata": {},
   "outputs": [
    {
     "data": {
      "image/png": "[encoded data removed]",
      "text/plain": [
       "<Figure size 720x576 with 2 Axes>"
      ]
     },
     "metadata": {
      "needs_background": "light"
     },
     "output_type": "display_data"
    }
   ],
   "source": [
    "# making a heat map\n",
    "plt.figure(figsize=(10,8))\n",
    "colormap = plt.cm.plasma\n",
    "\n",
    "sns.heatmap(df.corr(), linewidths=0.2,vmax=1.0,square=True,cmap=colormap,\n",
    "           linecolor='white',annot=True)\n",
    "\n",
    "plt.title('Heatmap for the Dataset', y=1.05, size=14)\n",
    "plt.show()"
   ]
  },
  {
   "cell_type": "markdown",
   "metadata": {},
   "source": [
    "We can see there are some highly correlated features, <b>dhi</b> and <b>dni</b> are highly correlated with <b>gni</b>; we will only keep <b>gni</b>\n",
    "In addition, <b>wind_speed_of_gust</b> is highly correlated: 0.97! with <b>wind_speed</b>. Because <b>wind_speed_of_gust</b> has a higher correlation with rain, we will drop <b>wind_speed</b>. We will also drop <b>wind_from_direction_st_dev</b> for the same reason.\n"
   ]
  },
  {
   "cell_type": "code",
   "execution_count": 12,
   "metadata": {},
   "outputs": [],
   "source": [
    "df.drop(['dni','dhi','wind_speed','wind_from_direction_st_dev'], axis=1, inplace=True)"
   ]
  },
  {
   "cell_type": "code",
   "execution_count": 13,
   "metadata": {},
   "outputs": [
    {
     "data": {
      "text/html": [
       "<div>\n",
       "<style scoped>\n",
       "    .dataframe tbody tr th:only-of-type {\n",
       "        vertical-align: middle;\n",
       "    }\n",
       "\n",
       "    .dataframe tbody tr th {\n",
       "        vertical-align: top;\n",
       "    }\n",
       "\n",
       "    .dataframe thead th {\n",
       "        text-align: right;\n",
       "    }\n",
       "</style>\n",
       "<table border=\"1\" class=\"dataframe\">\n",
       "  <thead>\n",
       "    <tr style=\"text-align: right;\">\n",
       "      <th></th>\n",
       "      <th>time</th>\n",
       "      <th>ghi</th>\n",
       "      <th>air_temperature</th>\n",
       "      <th>relative_humidity</th>\n",
       "      <th>wind_speed_of_gust</th>\n",
       "      <th>wind_from_direction</th>\n",
       "      <th>barometric_pressure</th>\n",
       "      <th>rain</th>\n",
       "    </tr>\n",
       "  </thead>\n",
       "  <tbody>\n",
       "    <tr>\n",
       "      <th>0</th>\n",
       "      <td>2018-01-07 00:01:00</td>\n",
       "      <td>0.0</td>\n",
       "      <td>28.1</td>\n",
       "      <td>89.3</td>\n",
       "      <td>1.6</td>\n",
       "      <td>82.5</td>\n",
       "      <td>982.9</td>\n",
       "      <td>0.0</td>\n",
       "    </tr>\n",
       "    <tr>\n",
       "      <th>1</th>\n",
       "      <td>2018-01-07 00:02:00</td>\n",
       "      <td>0.0</td>\n",
       "      <td>28.1</td>\n",
       "      <td>89.3</td>\n",
       "      <td>1.6</td>\n",
       "      <td>82.5</td>\n",
       "      <td>982.8</td>\n",
       "      <td>0.0</td>\n",
       "    </tr>\n",
       "    <tr>\n",
       "      <th>2</th>\n",
       "      <td>2018-01-07 00:03:00</td>\n",
       "      <td>0.0</td>\n",
       "      <td>28.1</td>\n",
       "      <td>89.4</td>\n",
       "      <td>1.3</td>\n",
       "      <td>82.5</td>\n",
       "      <td>982.9</td>\n",
       "      <td>0.0</td>\n",
       "    </tr>\n",
       "    <tr>\n",
       "      <th>3</th>\n",
       "      <td>2018-01-07 00:04:00</td>\n",
       "      <td>0.0</td>\n",
       "      <td>28.1</td>\n",
       "      <td>89.3</td>\n",
       "      <td>1.6</td>\n",
       "      <td>82.6</td>\n",
       "      <td>982.8</td>\n",
       "      <td>0.0</td>\n",
       "    </tr>\n",
       "    <tr>\n",
       "      <th>4</th>\n",
       "      <td>2018-01-07 00:05:00</td>\n",
       "      <td>0.0</td>\n",
       "      <td>28.1</td>\n",
       "      <td>89.6</td>\n",
       "      <td>1.8</td>\n",
       "      <td>82.6</td>\n",
       "      <td>982.9</td>\n",
       "      <td>0.0</td>\n",
       "    </tr>\n",
       "  </tbody>\n",
       "</table>\n",
       "</div>"
      ],
      "text/plain": [
       "                 time  ghi  air_temperature  relative_humidity  \\\n",
       "0 2018-01-07 00:01:00  0.0             28.1               89.3   \n",
       "1 2018-01-07 00:02:00  0.0             28.1               89.3   \n",
       "2 2018-01-07 00:03:00  0.0             28.1               89.4   \n",
       "3 2018-01-07 00:04:00  0.0             28.1               89.3   \n",
       "4 2018-01-07 00:05:00  0.0             28.1               89.6   \n",
       "\n",
       "   wind_speed_of_gust  wind_from_direction  barometric_pressure  rain  \n",
       "0                 1.6                 82.5                982.9   0.0  \n",
       "1                 1.6                 82.5                982.8   0.0  \n",
       "2                 1.3                 82.5                982.9   0.0  \n",
       "3                 1.6                 82.6                982.8   0.0  \n",
       "4                 1.8                 82.6                982.9   0.0  "
      ]
     },
     "execution_count": 13,
     "metadata": {},
     "output_type": "execute_result"
    }
   ],
   "source": [
    "df.head()"
   ]
  },
  {
   "cell_type": "markdown",
   "metadata": {},
   "source": [
    "Let's look how the features behave at the minutes following the rain"
   ]
  },
  {
   "cell_type": "code",
   "execution_count": 14,
   "metadata": {
    "scrolled": false
   },
   "outputs": [],
   "source": [
    "# Find rows where rain value changes\n",
    "rain_list = df.rain.tolist()\n",
    "rows_rain_change = [i for i in range(0,len(rain_list)) if rain_list[i]!=rain_list[i-1] ]"
   ]
  },
  {
   "cell_type": "code",
   "execution_count": 15,
   "metadata": {},
   "outputs": [
    {
     "data": {
      "text/plain": [
       "[433,\n",
       " 434,\n",
       " 437,\n",
       " 438,\n",
       " 444,\n",
       " 445,\n",
       " 590,\n",
       " 591,\n",
       " 597,\n",
       " 599,\n",
       " 600,\n",
       " 601,\n",
       " 604,\n",
       " 605,\n",
       " 607,\n",
       " 608,\n",
       " 609,\n",
       " 610,\n",
       " 611,\n",
       " 615,\n",
       " 617,\n",
       " 618,\n",
       " 619,\n",
       " 621,\n",
       " 622,\n",
       " 623,\n",
       " 624,\n",
       " 625,\n",
       " 626,\n",
       " 629,\n",
       " 630,\n",
       " 631,\n",
       " 633,\n",
       " 634,\n",
       " 635,\n",
       " 636,\n",
       " 637,\n",
       " 639,\n",
       " 640,\n",
       " 641,\n",
       " 642,\n",
       " 643,\n",
       " 644,\n",
       " 645,\n",
       " 646,\n",
       " 647,\n",
       " 648,\n",
       " 649,\n",
       " 650,\n",
       " 652,\n",
       " 653,\n",
       " 656,\n",
       " 657,\n",
       " 659,\n",
       " 661,\n",
       " 662,\n",
       " 663,\n",
       " 665,\n",
       " 666,\n",
       " 749,\n",
       " 750,\n",
       " 751,\n",
       " 752,\n",
       " 759,\n",
       " 760,\n",
       " 1124,\n",
       " 1125,\n",
       " 1126,\n",
       " 1127,\n",
       " 1128]"
      ]
     },
     "execution_count": 15,
     "metadata": {},
     "output_type": "execute_result"
    }
   ],
   "source": [
    "rows_rain_change[0:70]"
   ]
  },
  {
   "cell_type": "code",
   "execution_count": 16,
   "metadata": {},
   "outputs": [
    {
     "data": {
      "text/plain": [
       "433    0.1\n",
       "434    0.0\n",
       "435    0.0\n",
       "436    0.0\n",
       "437    0.1\n",
       "438    0.0\n",
       "439    0.0\n",
       "440    0.0\n",
       "441    0.0\n",
       "442    0.0\n",
       "443    0.0\n",
       "444    0.1\n",
       "445    0.0\n",
       "Name: rain, dtype: float64"
      ]
     },
     "execution_count": 16,
     "metadata": {},
     "output_type": "execute_result"
    }
   ],
   "source": [
    "df.iloc[433:446,-1]"
   ]
  },
  {
   "cell_type": "markdown",
   "metadata": {},
   "source": [
    "As we can see, after the first 433 minutes, it started raining, and then it stopped a minute after.\n",
    "\n",
    "Let's find a series with stronger rain"
   ]
  },
  {
   "cell_type": "code",
   "execution_count": 17,
   "metadata": {},
   "outputs": [
    {
     "data": {
      "text/html": [
       "<div>\n",
       "<style scoped>\n",
       "    .dataframe tbody tr th:only-of-type {\n",
       "        vertical-align: middle;\n",
       "    }\n",
       "\n",
       "    .dataframe tbody tr th {\n",
       "        vertical-align: top;\n",
       "    }\n",
       "\n",
       "    .dataframe thead th {\n",
       "        text-align: right;\n",
       "    }\n",
       "</style>\n",
       "<table border=\"1\" class=\"dataframe\">\n",
       "  <thead>\n",
       "    <tr style=\"text-align: right;\">\n",
       "      <th></th>\n",
       "      <th>time</th>\n",
       "      <th>ghi</th>\n",
       "      <th>air_temperature</th>\n",
       "      <th>relative_humidity</th>\n",
       "      <th>wind_speed_of_gust</th>\n",
       "      <th>wind_from_direction</th>\n",
       "      <th>barometric_pressure</th>\n",
       "      <th>rain</th>\n",
       "    </tr>\n",
       "  </thead>\n",
       "  <tbody>\n",
       "    <tr>\n",
       "      <th>1129</th>\n",
       "      <td>2018-01-07 18:50:00</td>\n",
       "      <td>0.0</td>\n",
       "      <td>27.6</td>\n",
       "      <td>96.0</td>\n",
       "      <td>3.1</td>\n",
       "      <td>139.4</td>\n",
       "      <td>980.6</td>\n",
       "      <td>1.4</td>\n",
       "    </tr>\n",
       "    <tr>\n",
       "      <th>1680</th>\n",
       "      <td>2018-02-07 04:01:00</td>\n",
       "      <td>0.0</td>\n",
       "      <td>25.6</td>\n",
       "      <td>100.0</td>\n",
       "      <td>5.4</td>\n",
       "      <td>95.4</td>\n",
       "      <td>979.3</td>\n",
       "      <td>1.4</td>\n",
       "    </tr>\n",
       "    <tr>\n",
       "      <th>1755</th>\n",
       "      <td>2018-02-07 05:16:00</td>\n",
       "      <td>0.0</td>\n",
       "      <td>25.3</td>\n",
       "      <td>100.0</td>\n",
       "      <td>4.9</td>\n",
       "      <td>130.6</td>\n",
       "      <td>979.4</td>\n",
       "      <td>1.4</td>\n",
       "    </tr>\n",
       "    <tr>\n",
       "      <th>1773</th>\n",
       "      <td>2018-02-07 05:34:00</td>\n",
       "      <td>0.0</td>\n",
       "      <td>25.3</td>\n",
       "      <td>100.0</td>\n",
       "      <td>2.1</td>\n",
       "      <td>79.8</td>\n",
       "      <td>979.4</td>\n",
       "      <td>1.4</td>\n",
       "    </tr>\n",
       "    <tr>\n",
       "      <th>81649</th>\n",
       "      <td>2018-08-26 16:50:00</td>\n",
       "      <td>16.0</td>\n",
       "      <td>25.6</td>\n",
       "      <td>98.0</td>\n",
       "      <td>6.2</td>\n",
       "      <td>101.3</td>\n",
       "      <td>979.6</td>\n",
       "      <td>1.4</td>\n",
       "    </tr>\n",
       "    <tr>\n",
       "      <th>81650</th>\n",
       "      <td>2018-08-26 16:51:00</td>\n",
       "      <td>19.0</td>\n",
       "      <td>25.5</td>\n",
       "      <td>98.4</td>\n",
       "      <td>5.4</td>\n",
       "      <td>96.0</td>\n",
       "      <td>979.6</td>\n",
       "      <td>1.4</td>\n",
       "    </tr>\n",
       "    <tr>\n",
       "      <th>104694</th>\n",
       "      <td>2018-11-09 16:55:00</td>\n",
       "      <td>32.0</td>\n",
       "      <td>28.0</td>\n",
       "      <td>91.1</td>\n",
       "      <td>6.2</td>\n",
       "      <td>283.6</td>\n",
       "      <td>986.6</td>\n",
       "      <td>1.4</td>\n",
       "    </tr>\n",
       "    <tr>\n",
       "      <th>104695</th>\n",
       "      <td>2018-11-09 16:56:00</td>\n",
       "      <td>42.0</td>\n",
       "      <td>27.6</td>\n",
       "      <td>92.6</td>\n",
       "      <td>5.9</td>\n",
       "      <td>328.3</td>\n",
       "      <td>986.6</td>\n",
       "      <td>1.4</td>\n",
       "    </tr>\n",
       "    <tr>\n",
       "      <th>104697</th>\n",
       "      <td>2018-11-09 16:58:00</td>\n",
       "      <td>66.0</td>\n",
       "      <td>27.0</td>\n",
       "      <td>93.1</td>\n",
       "      <td>6.4</td>\n",
       "      <td>330.2</td>\n",
       "      <td>986.6</td>\n",
       "      <td>1.4</td>\n",
       "    </tr>\n",
       "    <tr>\n",
       "      <th>104698</th>\n",
       "      <td>2018-11-09 16:59:00</td>\n",
       "      <td>94.0</td>\n",
       "      <td>26.9</td>\n",
       "      <td>93.2</td>\n",
       "      <td>4.7</td>\n",
       "      <td>341.5</td>\n",
       "      <td>986.7</td>\n",
       "      <td>1.4</td>\n",
       "    </tr>\n",
       "    <tr>\n",
       "      <th>440890</th>\n",
       "      <td>2019-03-05 04:11:00</td>\n",
       "      <td>0.0</td>\n",
       "      <td>19.6</td>\n",
       "      <td>91.7</td>\n",
       "      <td>11.6</td>\n",
       "      <td>344.8</td>\n",
       "      <td>989.1</td>\n",
       "      <td>1.4</td>\n",
       "    </tr>\n",
       "    <tr>\n",
       "      <th>485204</th>\n",
       "      <td>2019-02-06 22:45:00</td>\n",
       "      <td>0.0</td>\n",
       "      <td>22.3</td>\n",
       "      <td>94.1</td>\n",
       "      <td>18.7</td>\n",
       "      <td>302.2</td>\n",
       "      <td>987.1</td>\n",
       "      <td>1.4</td>\n",
       "    </tr>\n",
       "    <tr>\n",
       "      <th>485206</th>\n",
       "      <td>2019-02-06 22:47:00</td>\n",
       "      <td>0.0</td>\n",
       "      <td>22.2</td>\n",
       "      <td>95.2</td>\n",
       "      <td>12.6</td>\n",
       "      <td>320.5</td>\n",
       "      <td>987.4</td>\n",
       "      <td>1.4</td>\n",
       "    </tr>\n",
       "    <tr>\n",
       "      <th>554976</th>\n",
       "      <td>2019-07-21 09:37:00</td>\n",
       "      <td>8.5</td>\n",
       "      <td>26.1</td>\n",
       "      <td>91.3</td>\n",
       "      <td>8.2</td>\n",
       "      <td>73.6</td>\n",
       "      <td>986.3</td>\n",
       "      <td>1.4</td>\n",
       "    </tr>\n",
       "  </tbody>\n",
       "</table>\n",
       "</div>"
      ],
      "text/plain": [
       "                      time   ghi  air_temperature  relative_humidity  \\\n",
       "1129   2018-01-07 18:50:00   0.0             27.6               96.0   \n",
       "1680   2018-02-07 04:01:00   0.0             25.6              100.0   \n",
       "1755   2018-02-07 05:16:00   0.0             25.3              100.0   \n",
       "1773   2018-02-07 05:34:00   0.0             25.3              100.0   \n",
       "81649  2018-08-26 16:50:00  16.0             25.6               98.0   \n",
       "81650  2018-08-26 16:51:00  19.0             25.5               98.4   \n",
       "104694 2018-11-09 16:55:00  32.0             28.0               91.1   \n",
       "104695 2018-11-09 16:56:00  42.0             27.6               92.6   \n",
       "104697 2018-11-09 16:58:00  66.0             27.0               93.1   \n",
       "104698 2018-11-09 16:59:00  94.0             26.9               93.2   \n",
       "440890 2019-03-05 04:11:00   0.0             19.6               91.7   \n",
       "485204 2019-02-06 22:45:00   0.0             22.3               94.1   \n",
       "485206 2019-02-06 22:47:00   0.0             22.2               95.2   \n",
       "554976 2019-07-21 09:37:00   8.5             26.1               91.3   \n",
       "\n",
       "        wind_speed_of_gust  wind_from_direction  barometric_pressure  rain  \n",
       "1129                   3.1                139.4                980.6   1.4  \n",
       "1680                   5.4                 95.4                979.3   1.4  \n",
       "1755                   4.9                130.6                979.4   1.4  \n",
       "1773                   2.1                 79.8                979.4   1.4  \n",
       "81649                  6.2                101.3                979.6   1.4  \n",
       "81650                  5.4                 96.0                979.6   1.4  \n",
       "104694                 6.2                283.6                986.6   1.4  \n",
       "104695                 5.9                328.3                986.6   1.4  \n",
       "104697                 6.4                330.2                986.6   1.4  \n",
       "104698                 4.7                341.5                986.7   1.4  \n",
       "440890                11.6                344.8                989.1   1.4  \n",
       "485204                18.7                302.2                987.1   1.4  \n",
       "485206                12.6                320.5                987.4   1.4  \n",
       "554976                 8.2                 73.6                986.3   1.4  "
      ]
     },
     "execution_count": 17,
     "metadata": {},
     "output_type": "execute_result"
    }
   ],
   "source": [
    "df[df['rain'] == 1.4]"
   ]
  },
  {
   "cell_type": "code",
   "execution_count": 18,
   "metadata": {},
   "outputs": [
    {
     "data": {
      "text/plain": [
       "1098    0.0\n",
       "1099    0.0\n",
       "1100    0.0\n",
       "1101    0.0\n",
       "1102    0.0\n",
       "1103    0.0\n",
       "1104    0.0\n",
       "1105    0.0\n",
       "1106    0.0\n",
       "1107    0.0\n",
       "1108    0.0\n",
       "1109    0.0\n",
       "1110    0.0\n",
       "1111    0.0\n",
       "1112    0.0\n",
       "1113    0.0\n",
       "1114    0.0\n",
       "1115    0.0\n",
       "1116    0.0\n",
       "1117    0.0\n",
       "1118    0.0\n",
       "1119    0.0\n",
       "1120    0.0\n",
       "1121    0.0\n",
       "1122    0.0\n",
       "1123    0.0\n",
       "1124    0.4\n",
       "1125    0.5\n",
       "1126    0.9\n",
       "1127    0.7\n",
       "1128    1.0\n",
       "Name: rain, dtype: float64"
      ]
     },
     "execution_count": 18,
     "metadata": {},
     "output_type": "execute_result"
    }
   ],
   "source": [
    "# 30 MINUTES\n",
    "df.iloc[1098:1129,-1]"
   ]
  },
  {
   "cell_type": "code",
   "execution_count": 19,
   "metadata": {},
   "outputs": [
    {
     "data": {
      "text/plain": [
       "81620    0.0\n",
       "81621    0.0\n",
       "81622    0.0\n",
       "81623    0.0\n",
       "81624    0.0\n",
       "81625    0.0\n",
       "81626    0.0\n",
       "81627    0.3\n",
       "81628    0.4\n",
       "81629    0.5\n",
       "81630    0.9\n",
       "81631    0.8\n",
       "81632    0.8\n",
       "81633    0.7\n",
       "81634    0.2\n",
       "81635    0.9\n",
       "81636    0.4\n",
       "81637    0.1\n",
       "81638    0.1\n",
       "81639    0.0\n",
       "81640    0.0\n",
       "81641    0.2\n",
       "81642    0.0\n",
       "81643    0.1\n",
       "81644    0.1\n",
       "81645    0.2\n",
       "81646    0.2\n",
       "81647    0.3\n",
       "81648    1.0\n",
       "81649    1.4\n",
       "81650    1.4\n",
       "Name: rain, dtype: float64"
      ]
     },
     "execution_count": 19,
     "metadata": {},
     "output_type": "execute_result"
    }
   ],
   "source": [
    "df.iloc[81620:81651,-1]"
   ]
  },
  {
   "cell_type": "code",
   "execution_count": 20,
   "metadata": {},
   "outputs": [],
   "source": [
    "# Lets take two different series following rain\n",
    "df1 = df.iloc[1098:1129,:].copy()\n",
    "df2 = df.iloc[81620:81651,:].copy()\n",
    "df1.set_index('time', inplace=True) \n",
    "df2.set_index('time', inplace=True) "
   ]
  },
  {
   "cell_type": "code",
   "execution_count": 21,
   "metadata": {},
   "outputs": [
    {
     "data": {
      "text/html": [
       "<div>\n",
       "<style scoped>\n",
       "    .dataframe tbody tr th:only-of-type {\n",
       "        vertical-align: middle;\n",
       "    }\n",
       "\n",
       "    .dataframe tbody tr th {\n",
       "        vertical-align: top;\n",
       "    }\n",
       "\n",
       "    .dataframe thead th {\n",
       "        text-align: right;\n",
       "    }\n",
       "</style>\n",
       "<table border=\"1\" class=\"dataframe\">\n",
       "  <thead>\n",
       "    <tr style=\"text-align: right;\">\n",
       "      <th></th>\n",
       "      <th>ghi</th>\n",
       "      <th>air_temperature</th>\n",
       "      <th>relative_humidity</th>\n",
       "      <th>wind_speed_of_gust</th>\n",
       "      <th>wind_from_direction</th>\n",
       "      <th>barometric_pressure</th>\n",
       "      <th>rain</th>\n",
       "    </tr>\n",
       "    <tr>\n",
       "      <th>time</th>\n",
       "      <th></th>\n",
       "      <th></th>\n",
       "      <th></th>\n",
       "      <th></th>\n",
       "      <th></th>\n",
       "      <th></th>\n",
       "      <th></th>\n",
       "    </tr>\n",
       "  </thead>\n",
       "  <tbody>\n",
       "    <tr>\n",
       "      <th>2018-01-07 18:40:00</th>\n",
       "      <td>1.0</td>\n",
       "      <td>28.1</td>\n",
       "      <td>92.6</td>\n",
       "      <td>4.1</td>\n",
       "      <td>135.8</td>\n",
       "      <td>980.3</td>\n",
       "      <td>0.0</td>\n",
       "    </tr>\n",
       "    <tr>\n",
       "      <th>2018-01-07 18:41:00</th>\n",
       "      <td>1.0</td>\n",
       "      <td>28.1</td>\n",
       "      <td>92.7</td>\n",
       "      <td>3.9</td>\n",
       "      <td>134.3</td>\n",
       "      <td>980.3</td>\n",
       "      <td>0.0</td>\n",
       "    </tr>\n",
       "    <tr>\n",
       "      <th>2018-01-07 18:42:00</th>\n",
       "      <td>1.0</td>\n",
       "      <td>28.1</td>\n",
       "      <td>92.7</td>\n",
       "      <td>3.6</td>\n",
       "      <td>139.2</td>\n",
       "      <td>980.4</td>\n",
       "      <td>0.0</td>\n",
       "    </tr>\n",
       "    <tr>\n",
       "      <th>2018-01-07 18:43:00</th>\n",
       "      <td>0.0</td>\n",
       "      <td>28.1</td>\n",
       "      <td>92.9</td>\n",
       "      <td>3.6</td>\n",
       "      <td>143.8</td>\n",
       "      <td>980.4</td>\n",
       "      <td>0.0</td>\n",
       "    </tr>\n",
       "    <tr>\n",
       "      <th>2018-01-07 18:44:00</th>\n",
       "      <td>0.0</td>\n",
       "      <td>28.1</td>\n",
       "      <td>93.0</td>\n",
       "      <td>4.7</td>\n",
       "      <td>151.8</td>\n",
       "      <td>980.4</td>\n",
       "      <td>0.0</td>\n",
       "    </tr>\n",
       "    <tr>\n",
       "      <th>2018-01-07 18:45:00</th>\n",
       "      <td>0.0</td>\n",
       "      <td>28.1</td>\n",
       "      <td>93.4</td>\n",
       "      <td>3.6</td>\n",
       "      <td>144.7</td>\n",
       "      <td>980.5</td>\n",
       "      <td>0.4</td>\n",
       "    </tr>\n",
       "    <tr>\n",
       "      <th>2018-01-07 18:46:00</th>\n",
       "      <td>0.0</td>\n",
       "      <td>28.0</td>\n",
       "      <td>93.7</td>\n",
       "      <td>2.9</td>\n",
       "      <td>137.2</td>\n",
       "      <td>980.5</td>\n",
       "      <td>0.5</td>\n",
       "    </tr>\n",
       "    <tr>\n",
       "      <th>2018-01-07 18:47:00</th>\n",
       "      <td>0.0</td>\n",
       "      <td>27.9</td>\n",
       "      <td>94.1</td>\n",
       "      <td>3.6</td>\n",
       "      <td>137.9</td>\n",
       "      <td>980.4</td>\n",
       "      <td>0.9</td>\n",
       "    </tr>\n",
       "    <tr>\n",
       "      <th>2018-01-07 18:48:00</th>\n",
       "      <td>0.0</td>\n",
       "      <td>27.8</td>\n",
       "      <td>94.9</td>\n",
       "      <td>3.1</td>\n",
       "      <td>131.2</td>\n",
       "      <td>980.5</td>\n",
       "      <td>0.7</td>\n",
       "    </tr>\n",
       "    <tr>\n",
       "      <th>2018-01-07 18:49:00</th>\n",
       "      <td>0.0</td>\n",
       "      <td>27.7</td>\n",
       "      <td>95.3</td>\n",
       "      <td>3.4</td>\n",
       "      <td>155.5</td>\n",
       "      <td>980.5</td>\n",
       "      <td>1.0</td>\n",
       "    </tr>\n",
       "  </tbody>\n",
       "</table>\n",
       "</div>"
      ],
      "text/plain": [
       "                     ghi  air_temperature  relative_humidity  \\\n",
       "time                                                           \n",
       "2018-01-07 18:40:00  1.0             28.1               92.6   \n",
       "2018-01-07 18:41:00  1.0             28.1               92.7   \n",
       "2018-01-07 18:42:00  1.0             28.1               92.7   \n",
       "2018-01-07 18:43:00  0.0             28.1               92.9   \n",
       "2018-01-07 18:44:00  0.0             28.1               93.0   \n",
       "2018-01-07 18:45:00  0.0             28.1               93.4   \n",
       "2018-01-07 18:46:00  0.0             28.0               93.7   \n",
       "2018-01-07 18:47:00  0.0             27.9               94.1   \n",
       "2018-01-07 18:48:00  0.0             27.8               94.9   \n",
       "2018-01-07 18:49:00  0.0             27.7               95.3   \n",
       "\n",
       "                     wind_speed_of_gust  wind_from_direction  \\\n",
       "time                                                           \n",
       "2018-01-07 18:40:00                 4.1                135.8   \n",
       "2018-01-07 18:41:00                 3.9                134.3   \n",
       "2018-01-07 18:42:00                 3.6                139.2   \n",
       "2018-01-07 18:43:00                 3.6                143.8   \n",
       "2018-01-07 18:44:00                 4.7                151.8   \n",
       "2018-01-07 18:45:00                 3.6                144.7   \n",
       "2018-01-07 18:46:00                 2.9                137.2   \n",
       "2018-01-07 18:47:00                 3.6                137.9   \n",
       "2018-01-07 18:48:00                 3.1                131.2   \n",
       "2018-01-07 18:49:00                 3.4                155.5   \n",
       "\n",
       "                     barometric_pressure  rain  \n",
       "time                                            \n",
       "2018-01-07 18:40:00                980.3   0.0  \n",
       "2018-01-07 18:41:00                980.3   0.0  \n",
       "2018-01-07 18:42:00                980.4   0.0  \n",
       "2018-01-07 18:43:00                980.4   0.0  \n",
       "2018-01-07 18:44:00                980.4   0.0  \n",
       "2018-01-07 18:45:00                980.5   0.4  \n",
       "2018-01-07 18:46:00                980.5   0.5  \n",
       "2018-01-07 18:47:00                980.4   0.9  \n",
       "2018-01-07 18:48:00                980.5   0.7  \n",
       "2018-01-07 18:49:00                980.5   1.0  "
      ]
     },
     "execution_count": 21,
     "metadata": {},
     "output_type": "execute_result"
    }
   ],
   "source": [
    "df1.tail(10)"
   ]
  },
  {
   "cell_type": "code",
   "execution_count": 22,
   "metadata": {},
   "outputs": [
    {
     "data": {
      "image/png": "[encoded data removed]",
      "text/plain": [
       "<Figure size 720x864 with 6 Axes>"
      ]
     },
     "metadata": {
      "needs_background": "light"
     },
     "output_type": "display_data"
    }
   ],
   "source": [
    "df1.iloc[:,:-1].plot(subplots=True, figsize=(10,12),linewidth=3)\n",
    "plt.title('Weather attributes from 18:20 to 18:50 (rain)')\n",
    "plt.show()"
   ]
  },
  {
   "cell_type": "markdown",
   "metadata": {},
   "source": [
    "We can see that <b>ghi</b> was 0 & <b>relative humidity</b> started to go up.\n",
    "<b>air temperature</b> went down and <b>barometric pressure </b> went up"
   ]
  },
  {
   "cell_type": "markdown",
   "metadata": {},
   "source": [
    "Let's take a look at some statistics during this period of time"
   ]
  },
  {
   "cell_type": "code",
   "execution_count": 23,
   "metadata": {},
   "outputs": [
    {
     "data": {
      "text/html": [
       "<div>\n",
       "<style scoped>\n",
       "    .dataframe tbody tr th:only-of-type {\n",
       "        vertical-align: middle;\n",
       "    }\n",
       "\n",
       "    .dataframe tbody tr th {\n",
       "        vertical-align: top;\n",
       "    }\n",
       "\n",
       "    .dataframe thead th {\n",
       "        text-align: right;\n",
       "    }\n",
       "</style>\n",
       "<table border=\"1\" class=\"dataframe\">\n",
       "  <thead>\n",
       "    <tr style=\"text-align: right;\">\n",
       "      <th></th>\n",
       "      <th>ghi</th>\n",
       "      <th>air_temperature</th>\n",
       "      <th>relative_humidity</th>\n",
       "      <th>wind_speed_of_gust</th>\n",
       "      <th>wind_from_direction</th>\n",
       "      <th>barometric_pressure</th>\n",
       "    </tr>\n",
       "  </thead>\n",
       "  <tbody>\n",
       "    <tr>\n",
       "      <th>count</th>\n",
       "      <td>31.000000</td>\n",
       "      <td>31.000000</td>\n",
       "      <td>31.000000</td>\n",
       "      <td>31.000000</td>\n",
       "      <td>31.000000</td>\n",
       "      <td>31.000000</td>\n",
       "    </tr>\n",
       "    <tr>\n",
       "      <th>mean</th>\n",
       "      <td>5.677419</td>\n",
       "      <td>28.122581</td>\n",
       "      <td>93.338710</td>\n",
       "      <td>4.280645</td>\n",
       "      <td>142.629032</td>\n",
       "      <td>980.251613</td>\n",
       "    </tr>\n",
       "    <tr>\n",
       "      <th>std</th>\n",
       "      <td>4.921972</td>\n",
       "      <td>0.138347</td>\n",
       "      <td>0.630702</td>\n",
       "      <td>0.790957</td>\n",
       "      <td>8.437543</td>\n",
       "      <td>0.133843</td>\n",
       "    </tr>\n",
       "    <tr>\n",
       "      <th>min</th>\n",
       "      <td>0.000000</td>\n",
       "      <td>27.700000</td>\n",
       "      <td>92.600000</td>\n",
       "      <td>2.900000</td>\n",
       "      <td>128.900000</td>\n",
       "      <td>980.100000</td>\n",
       "    </tr>\n",
       "    <tr>\n",
       "      <th>25%</th>\n",
       "      <td>1.000000</td>\n",
       "      <td>28.100000</td>\n",
       "      <td>92.800000</td>\n",
       "      <td>3.600000</td>\n",
       "      <td>136.150000</td>\n",
       "      <td>980.200000</td>\n",
       "    </tr>\n",
       "    <tr>\n",
       "      <th>50%</th>\n",
       "      <td>5.000000</td>\n",
       "      <td>28.100000</td>\n",
       "      <td>93.400000</td>\n",
       "      <td>4.400000</td>\n",
       "      <td>141.800000</td>\n",
       "      <td>980.200000</td>\n",
       "    </tr>\n",
       "    <tr>\n",
       "      <th>75%</th>\n",
       "      <td>10.000000</td>\n",
       "      <td>28.200000</td>\n",
       "      <td>93.550000</td>\n",
       "      <td>4.700000</td>\n",
       "      <td>148.500000</td>\n",
       "      <td>980.350000</td>\n",
       "    </tr>\n",
       "    <tr>\n",
       "      <th>max</th>\n",
       "      <td>14.000000</td>\n",
       "      <td>28.300000</td>\n",
       "      <td>95.300000</td>\n",
       "      <td>5.900000</td>\n",
       "      <td>158.000000</td>\n",
       "      <td>980.500000</td>\n",
       "    </tr>\n",
       "  </tbody>\n",
       "</table>\n",
       "</div>"
      ],
      "text/plain": [
       "             ghi  air_temperature  relative_humidity  wind_speed_of_gust  \\\n",
       "count  31.000000        31.000000          31.000000           31.000000   \n",
       "mean    5.677419        28.122581          93.338710            4.280645   \n",
       "std     4.921972         0.138347           0.630702            0.790957   \n",
       "min     0.000000        27.700000          92.600000            2.900000   \n",
       "25%     1.000000        28.100000          92.800000            3.600000   \n",
       "50%     5.000000        28.100000          93.400000            4.400000   \n",
       "75%    10.000000        28.200000          93.550000            4.700000   \n",
       "max    14.000000        28.300000          95.300000            5.900000   \n",
       "\n",
       "       wind_from_direction  barometric_pressure  \n",
       "count            31.000000            31.000000  \n",
       "mean            142.629032           980.251613  \n",
       "std               8.437543             0.133843  \n",
       "min             128.900000           980.100000  \n",
       "25%             136.150000           980.200000  \n",
       "50%             141.800000           980.200000  \n",
       "75%             148.500000           980.350000  \n",
       "max             158.000000           980.500000  "
      ]
     },
     "execution_count": 23,
     "metadata": {},
     "output_type": "execute_result"
    }
   ],
   "source": [
    "df1.iloc[:,:-1].describe()"
   ]
  },
  {
   "cell_type": "markdown",
   "metadata": {},
   "source": [
    "It started raining when ghi got to 0, air_temperature to 27.7, relative_humidity 94 & barometric_pressure was 980.5"
   ]
  },
  {
   "cell_type": "markdown",
   "metadata": {},
   "source": [
    "Let's look at the second series"
   ]
  },
  {
   "cell_type": "code",
   "execution_count": 24,
   "metadata": {},
   "outputs": [
    {
     "data": {
      "text/html": [
       "<div>\n",
       "<style scoped>\n",
       "    .dataframe tbody tr th:only-of-type {\n",
       "        vertical-align: middle;\n",
       "    }\n",
       "\n",
       "    .dataframe tbody tr th {\n",
       "        vertical-align: top;\n",
       "    }\n",
       "\n",
       "    .dataframe thead th {\n",
       "        text-align: right;\n",
       "    }\n",
       "</style>\n",
       "<table border=\"1\" class=\"dataframe\">\n",
       "  <thead>\n",
       "    <tr style=\"text-align: right;\">\n",
       "      <th></th>\n",
       "      <th>ghi</th>\n",
       "      <th>air_temperature</th>\n",
       "      <th>relative_humidity</th>\n",
       "      <th>wind_speed_of_gust</th>\n",
       "      <th>wind_from_direction</th>\n",
       "      <th>barometric_pressure</th>\n",
       "      <th>rain</th>\n",
       "    </tr>\n",
       "    <tr>\n",
       "      <th>time</th>\n",
       "      <th></th>\n",
       "      <th></th>\n",
       "      <th></th>\n",
       "      <th></th>\n",
       "      <th></th>\n",
       "      <th></th>\n",
       "      <th></th>\n",
       "    </tr>\n",
       "  </thead>\n",
       "  <tbody>\n",
       "    <tr>\n",
       "      <th>2018-08-26 16:42:00</th>\n",
       "      <td>5.0</td>\n",
       "      <td>27.8</td>\n",
       "      <td>92.5</td>\n",
       "      <td>12.3</td>\n",
       "      <td>96.4</td>\n",
       "      <td>979.2</td>\n",
       "      <td>0.2</td>\n",
       "    </tr>\n",
       "    <tr>\n",
       "      <th>2018-08-26 16:43:00</th>\n",
       "      <td>4.0</td>\n",
       "      <td>27.1</td>\n",
       "      <td>92.5</td>\n",
       "      <td>9.5</td>\n",
       "      <td>108.4</td>\n",
       "      <td>979.3</td>\n",
       "      <td>0.0</td>\n",
       "    </tr>\n",
       "    <tr>\n",
       "      <th>2018-08-26 16:44:00</th>\n",
       "      <td>5.0</td>\n",
       "      <td>26.6</td>\n",
       "      <td>94.2</td>\n",
       "      <td>8.5</td>\n",
       "      <td>114.1</td>\n",
       "      <td>979.3</td>\n",
       "      <td>0.1</td>\n",
       "    </tr>\n",
       "    <tr>\n",
       "      <th>2018-08-26 16:45:00</th>\n",
       "      <td>6.0</td>\n",
       "      <td>26.2</td>\n",
       "      <td>94.3</td>\n",
       "      <td>9.2</td>\n",
       "      <td>113.5</td>\n",
       "      <td>979.3</td>\n",
       "      <td>0.1</td>\n",
       "    </tr>\n",
       "    <tr>\n",
       "      <th>2018-08-26 16:46:00</th>\n",
       "      <td>9.0</td>\n",
       "      <td>26.0</td>\n",
       "      <td>95.9</td>\n",
       "      <td>7.2</td>\n",
       "      <td>119.7</td>\n",
       "      <td>979.4</td>\n",
       "      <td>0.2</td>\n",
       "    </tr>\n",
       "    <tr>\n",
       "      <th>2018-08-26 16:47:00</th>\n",
       "      <td>12.0</td>\n",
       "      <td>25.8</td>\n",
       "      <td>97.0</td>\n",
       "      <td>6.2</td>\n",
       "      <td>103.7</td>\n",
       "      <td>979.5</td>\n",
       "      <td>0.2</td>\n",
       "    </tr>\n",
       "    <tr>\n",
       "      <th>2018-08-26 16:48:00</th>\n",
       "      <td>14.0</td>\n",
       "      <td>25.8</td>\n",
       "      <td>97.9</td>\n",
       "      <td>7.2</td>\n",
       "      <td>107.0</td>\n",
       "      <td>979.5</td>\n",
       "      <td>0.3</td>\n",
       "    </tr>\n",
       "    <tr>\n",
       "      <th>2018-08-26 16:49:00</th>\n",
       "      <td>14.0</td>\n",
       "      <td>25.7</td>\n",
       "      <td>98.2</td>\n",
       "      <td>7.7</td>\n",
       "      <td>97.9</td>\n",
       "      <td>979.6</td>\n",
       "      <td>1.0</td>\n",
       "    </tr>\n",
       "    <tr>\n",
       "      <th>2018-08-26 16:50:00</th>\n",
       "      <td>16.0</td>\n",
       "      <td>25.6</td>\n",
       "      <td>98.0</td>\n",
       "      <td>6.2</td>\n",
       "      <td>101.3</td>\n",
       "      <td>979.6</td>\n",
       "      <td>1.4</td>\n",
       "    </tr>\n",
       "    <tr>\n",
       "      <th>2018-08-26 16:51:00</th>\n",
       "      <td>19.0</td>\n",
       "      <td>25.5</td>\n",
       "      <td>98.4</td>\n",
       "      <td>5.4</td>\n",
       "      <td>96.0</td>\n",
       "      <td>979.6</td>\n",
       "      <td>1.4</td>\n",
       "    </tr>\n",
       "  </tbody>\n",
       "</table>\n",
       "</div>"
      ],
      "text/plain": [
       "                      ghi  air_temperature  relative_humidity  \\\n",
       "time                                                            \n",
       "2018-08-26 16:42:00   5.0             27.8               92.5   \n",
       "2018-08-26 16:43:00   4.0             27.1               92.5   \n",
       "2018-08-26 16:44:00   5.0             26.6               94.2   \n",
       "2018-08-26 16:45:00   6.0             26.2               94.3   \n",
       "2018-08-26 16:46:00   9.0             26.0               95.9   \n",
       "2018-08-26 16:47:00  12.0             25.8               97.0   \n",
       "2018-08-26 16:48:00  14.0             25.8               97.9   \n",
       "2018-08-26 16:49:00  14.0             25.7               98.2   \n",
       "2018-08-26 16:50:00  16.0             25.6               98.0   \n",
       "2018-08-26 16:51:00  19.0             25.5               98.4   \n",
       "\n",
       "                     wind_speed_of_gust  wind_from_direction  \\\n",
       "time                                                           \n",
       "2018-08-26 16:42:00                12.3                 96.4   \n",
       "2018-08-26 16:43:00                 9.5                108.4   \n",
       "2018-08-26 16:44:00                 8.5                114.1   \n",
       "2018-08-26 16:45:00                 9.2                113.5   \n",
       "2018-08-26 16:46:00                 7.2                119.7   \n",
       "2018-08-26 16:47:00                 6.2                103.7   \n",
       "2018-08-26 16:48:00                 7.2                107.0   \n",
       "2018-08-26 16:49:00                 7.7                 97.9   \n",
       "2018-08-26 16:50:00                 6.2                101.3   \n",
       "2018-08-26 16:51:00                 5.4                 96.0   \n",
       "\n",
       "                     barometric_pressure  rain  \n",
       "time                                            \n",
       "2018-08-26 16:42:00                979.2   0.2  \n",
       "2018-08-26 16:43:00                979.3   0.0  \n",
       "2018-08-26 16:44:00                979.3   0.1  \n",
       "2018-08-26 16:45:00                979.3   0.1  \n",
       "2018-08-26 16:46:00                979.4   0.2  \n",
       "2018-08-26 16:47:00                979.5   0.2  \n",
       "2018-08-26 16:48:00                979.5   0.3  \n",
       "2018-08-26 16:49:00                979.6   1.0  \n",
       "2018-08-26 16:50:00                979.6   1.4  \n",
       "2018-08-26 16:51:00                979.6   1.4  "
      ]
     },
     "execution_count": 24,
     "metadata": {},
     "output_type": "execute_result"
    }
   ],
   "source": [
    "df2.tail(10)"
   ]
  },
  {
   "cell_type": "code",
   "execution_count": 25,
   "metadata": {},
   "outputs": [
    {
     "data": {
      "image/png": "[encoded data removed]",
      "text/plain": [
       "<Figure size 720x864 with 6 Axes>"
      ]
     },
     "metadata": {
      "needs_background": "light"
     },
     "output_type": "display_data"
    }
   ],
   "source": [
    "df2.iloc[:,:-1].plot(subplots=True, figsize=(10,12),linewidth=3)\n",
    "plt.title('Weather attributes from 16:20 to 16:50 (rain)')\n",
    "plt.show()"
   ]
  },
  {
   "cell_type": "code",
   "execution_count": 26,
   "metadata": {},
   "outputs": [
    {
     "data": {
      "text/html": [
       "<div>\n",
       "<style scoped>\n",
       "    .dataframe tbody tr th:only-of-type {\n",
       "        vertical-align: middle;\n",
       "    }\n",
       "\n",
       "    .dataframe tbody tr th {\n",
       "        vertical-align: top;\n",
       "    }\n",
       "\n",
       "    .dataframe thead th {\n",
       "        text-align: right;\n",
       "    }\n",
       "</style>\n",
       "<table border=\"1\" class=\"dataframe\">\n",
       "  <thead>\n",
       "    <tr style=\"text-align: right;\">\n",
       "      <th></th>\n",
       "      <th>ghi</th>\n",
       "      <th>air_temperature</th>\n",
       "      <th>relative_humidity</th>\n",
       "      <th>wind_speed_of_gust</th>\n",
       "      <th>wind_from_direction</th>\n",
       "      <th>barometric_pressure</th>\n",
       "    </tr>\n",
       "  </thead>\n",
       "  <tbody>\n",
       "    <tr>\n",
       "      <th>count</th>\n",
       "      <td>31.000000</td>\n",
       "      <td>31.000000</td>\n",
       "      <td>31.000000</td>\n",
       "      <td>31.000000</td>\n",
       "      <td>31.000000</td>\n",
       "      <td>31.000000</td>\n",
       "    </tr>\n",
       "    <tr>\n",
       "      <th>mean</th>\n",
       "      <td>24.451613</td>\n",
       "      <td>27.983871</td>\n",
       "      <td>92.535484</td>\n",
       "      <td>7.083871</td>\n",
       "      <td>76.500000</td>\n",
       "      <td>978.996774</td>\n",
       "    </tr>\n",
       "    <tr>\n",
       "      <th>std</th>\n",
       "      <td>20.200394</td>\n",
       "      <td>1.461756</td>\n",
       "      <td>4.210823</td>\n",
       "      <td>1.626058</td>\n",
       "      <td>23.070009</td>\n",
       "      <td>0.335146</td>\n",
       "    </tr>\n",
       "    <tr>\n",
       "      <th>min</th>\n",
       "      <td>4.000000</td>\n",
       "      <td>25.500000</td>\n",
       "      <td>85.400000</td>\n",
       "      <td>3.600000</td>\n",
       "      <td>44.900000</td>\n",
       "      <td>978.600000</td>\n",
       "    </tr>\n",
       "    <tr>\n",
       "      <th>25%</th>\n",
       "      <td>9.000000</td>\n",
       "      <td>26.850000</td>\n",
       "      <td>88.250000</td>\n",
       "      <td>6.200000</td>\n",
       "      <td>56.250000</td>\n",
       "      <td>978.750000</td>\n",
       "    </tr>\n",
       "    <tr>\n",
       "      <th>50%</th>\n",
       "      <td>19.000000</td>\n",
       "      <td>28.200000</td>\n",
       "      <td>94.200000</td>\n",
       "      <td>7.000000</td>\n",
       "      <td>69.500000</td>\n",
       "      <td>978.900000</td>\n",
       "    </tr>\n",
       "    <tr>\n",
       "      <th>75%</th>\n",
       "      <td>32.500000</td>\n",
       "      <td>29.050000</td>\n",
       "      <td>94.950000</td>\n",
       "      <td>7.850000</td>\n",
       "      <td>97.150000</td>\n",
       "      <td>979.300000</td>\n",
       "    </tr>\n",
       "    <tr>\n",
       "      <th>max</th>\n",
       "      <td>88.000000</td>\n",
       "      <td>30.000000</td>\n",
       "      <td>98.400000</td>\n",
       "      <td>12.300000</td>\n",
       "      <td>119.700000</td>\n",
       "      <td>979.600000</td>\n",
       "    </tr>\n",
       "  </tbody>\n",
       "</table>\n",
       "</div>"
      ],
      "text/plain": [
       "             ghi  air_temperature  relative_humidity  wind_speed_of_gust  \\\n",
       "count  31.000000        31.000000          31.000000           31.000000   \n",
       "mean   24.451613        27.983871          92.535484            7.083871   \n",
       "std    20.200394         1.461756           4.210823            1.626058   \n",
       "min     4.000000        25.500000          85.400000            3.600000   \n",
       "25%     9.000000        26.850000          88.250000            6.200000   \n",
       "50%    19.000000        28.200000          94.200000            7.000000   \n",
       "75%    32.500000        29.050000          94.950000            7.850000   \n",
       "max    88.000000        30.000000          98.400000           12.300000   \n",
       "\n",
       "       wind_from_direction  barometric_pressure  \n",
       "count            31.000000            31.000000  \n",
       "mean             76.500000           978.996774  \n",
       "std              23.070009             0.335146  \n",
       "min              44.900000           978.600000  \n",
       "25%              56.250000           978.750000  \n",
       "50%              69.500000           978.900000  \n",
       "75%              97.150000           979.300000  \n",
       "max             119.700000           979.600000  "
      ]
     },
     "execution_count": 26,
     "metadata": {},
     "output_type": "execute_result"
    }
   ],
   "source": [
    "df2.iloc[:,:-1].describe()"
   ]
  },
  {
   "cell_type": "code",
   "execution_count": 27,
   "metadata": {},
   "outputs": [],
   "source": [
    "# Make a copy of original dataframe\n",
    "df_copy = df.copy()"
   ]
  },
  {
   "cell_type": "code",
   "execution_count": 28,
   "metadata": {},
   "outputs": [
    {
     "data": {
      "text/html": [
       "<div>\n",
       "<style scoped>\n",
       "    .dataframe tbody tr th:only-of-type {\n",
       "        vertical-align: middle;\n",
       "    }\n",
       "\n",
       "    .dataframe tbody tr th {\n",
       "        vertical-align: top;\n",
       "    }\n",
       "\n",
       "    .dataframe thead th {\n",
       "        text-align: right;\n",
       "    }\n",
       "</style>\n",
       "<table border=\"1\" class=\"dataframe\">\n",
       "  <thead>\n",
       "    <tr style=\"text-align: right;\">\n",
       "      <th></th>\n",
       "      <th>time</th>\n",
       "      <th>ghi</th>\n",
       "      <th>air_temperature</th>\n",
       "      <th>relative_humidity</th>\n",
       "      <th>wind_speed_of_gust</th>\n",
       "      <th>wind_from_direction</th>\n",
       "      <th>barometric_pressure</th>\n",
       "      <th>rain</th>\n",
       "    </tr>\n",
       "  </thead>\n",
       "  <tbody>\n",
       "    <tr>\n",
       "      <th>0</th>\n",
       "      <td>2018-01-07 00:01:00</td>\n",
       "      <td>0.0</td>\n",
       "      <td>28.1</td>\n",
       "      <td>89.3</td>\n",
       "      <td>1.6</td>\n",
       "      <td>82.5</td>\n",
       "      <td>982.9</td>\n",
       "      <td>0.0</td>\n",
       "    </tr>\n",
       "    <tr>\n",
       "      <th>1</th>\n",
       "      <td>2018-01-07 00:02:00</td>\n",
       "      <td>0.0</td>\n",
       "      <td>28.1</td>\n",
       "      <td>89.3</td>\n",
       "      <td>1.6</td>\n",
       "      <td>82.5</td>\n",
       "      <td>982.8</td>\n",
       "      <td>0.0</td>\n",
       "    </tr>\n",
       "    <tr>\n",
       "      <th>2</th>\n",
       "      <td>2018-01-07 00:03:00</td>\n",
       "      <td>0.0</td>\n",
       "      <td>28.1</td>\n",
       "      <td>89.4</td>\n",
       "      <td>1.3</td>\n",
       "      <td>82.5</td>\n",
       "      <td>982.9</td>\n",
       "      <td>0.0</td>\n",
       "    </tr>\n",
       "    <tr>\n",
       "      <th>3</th>\n",
       "      <td>2018-01-07 00:04:00</td>\n",
       "      <td>0.0</td>\n",
       "      <td>28.1</td>\n",
       "      <td>89.3</td>\n",
       "      <td>1.6</td>\n",
       "      <td>82.6</td>\n",
       "      <td>982.8</td>\n",
       "      <td>0.0</td>\n",
       "    </tr>\n",
       "    <tr>\n",
       "      <th>4</th>\n",
       "      <td>2018-01-07 00:05:00</td>\n",
       "      <td>0.0</td>\n",
       "      <td>28.1</td>\n",
       "      <td>89.6</td>\n",
       "      <td>1.8</td>\n",
       "      <td>82.6</td>\n",
       "      <td>982.9</td>\n",
       "      <td>0.0</td>\n",
       "    </tr>\n",
       "  </tbody>\n",
       "</table>\n",
       "</div>"
      ],
      "text/plain": [
       "                 time  ghi  air_temperature  relative_humidity  \\\n",
       "0 2018-01-07 00:01:00  0.0             28.1               89.3   \n",
       "1 2018-01-07 00:02:00  0.0             28.1               89.3   \n",
       "2 2018-01-07 00:03:00  0.0             28.1               89.4   \n",
       "3 2018-01-07 00:04:00  0.0             28.1               89.3   \n",
       "4 2018-01-07 00:05:00  0.0             28.1               89.6   \n",
       "\n",
       "   wind_speed_of_gust  wind_from_direction  barometric_pressure  rain  \n",
       "0                 1.6                 82.5                982.9   0.0  \n",
       "1                 1.6                 82.5                982.8   0.0  \n",
       "2                 1.3                 82.5                982.9   0.0  \n",
       "3                 1.6                 82.6                982.8   0.0  \n",
       "4                 1.8                 82.6                982.9   0.0  "
      ]
     },
     "execution_count": 28,
     "metadata": {},
     "output_type": "execute_result"
    }
   ],
   "source": [
    "df_copy.head()"
   ]
  },
  {
   "cell_type": "code",
   "execution_count": 29,
   "metadata": {},
   "outputs": [
    {
     "data": {
      "text/plain": [
       "(614880, 8)"
      ]
     },
     "execution_count": 29,
     "metadata": {},
     "output_type": "execute_result"
    }
   ],
   "source": [
    "df.shape"
   ]
  },
  {
   "cell_type": "code",
   "execution_count": 30,
   "metadata": {},
   "outputs": [],
   "source": [
    "# Set datetime column as index\n",
    "df_copy.set_index('time', inplace=True)"
   ]
  },
  {
   "cell_type": "code",
   "execution_count": 31,
   "metadata": {},
   "outputs": [],
   "source": [
    "# Create new columns; for each column - min,max and mean values (for rain we will keep mean value)\n",
    "params = {'ghi': {'min_ghi':np.min,'max_ghi':np.max,'mean_ghi':np.mean},\n",
    "     'air_temperature': {'min_air_temperature':np.min,'max_air_temperature':np.max,'mean_air_temperature':np.mean},\n",
    "     'relative_humidity': {'min_relative_humidity':np.min,'max_relative_humidity':np.max,'mean_relative_humidity':np.mean},\n",
    "     'wind_speed_of_gust': {'min_wind_speed_of_gust':np.min,'max_wind_speed_of_gust':np.max,'mean_wind_speed_of_gust':np.mean},\n",
    "     'wind_from_direction': {'min_wind_from_direction':np.min,'max_wind_from_direction':np.max,'mean_wind_from_direction':np.mean},\n",
    "     'barometric_pressure': {'min_barometric_pressure':np.min,'max_barometric_pressure':np.max,'mean_barometric_pressure':np.mean},\n",
    "     'rain': {'rain':np.mean}\n",
    "    }"
   ]
  },
  {
   "cell_type": "code",
   "execution_count": 32,
   "metadata": {},
   "outputs": [],
   "source": [
    "# Convert to hourly data\n",
    "df_copy = df_copy.resample('H', how=params)"
   ]
  },
  {
   "cell_type": "code",
   "execution_count": 33,
   "metadata": {},
   "outputs": [
    {
     "data": {
      "text/html": [
       "<div>\n",
       "<style scoped>\n",
       "    .dataframe tbody tr th:only-of-type {\n",
       "        vertical-align: middle;\n",
       "    }\n",
       "\n",
       "    .dataframe tbody tr th {\n",
       "        vertical-align: top;\n",
       "    }\n",
       "\n",
       "    .dataframe thead tr th {\n",
       "        text-align: left;\n",
       "    }\n",
       "\n",
       "    .dataframe thead tr:last-of-type th {\n",
       "        text-align: right;\n",
       "    }\n",
       "</style>\n",
       "<table border=\"1\" class=\"dataframe\">\n",
       "  <thead>\n",
       "    <tr>\n",
       "      <th></th>\n",
       "      <th colspan=\"3\" halign=\"left\">ghi</th>\n",
       "      <th colspan=\"3\" halign=\"left\">air_temperature</th>\n",
       "      <th colspan=\"3\" halign=\"left\">relative_humidity</th>\n",
       "      <th colspan=\"3\" halign=\"left\">wind_speed_of_gust</th>\n",
       "      <th colspan=\"3\" halign=\"left\">wind_from_direction</th>\n",
       "      <th colspan=\"3\" halign=\"left\">barometric_pressure</th>\n",
       "      <th>rain</th>\n",
       "    </tr>\n",
       "    <tr>\n",
       "      <th></th>\n",
       "      <th>min_ghi</th>\n",
       "      <th>max_ghi</th>\n",
       "      <th>mean_ghi</th>\n",
       "      <th>min_air_temperature</th>\n",
       "      <th>max_air_temperature</th>\n",
       "      <th>mean_air_temperature</th>\n",
       "      <th>min_relative_humidity</th>\n",
       "      <th>max_relative_humidity</th>\n",
       "      <th>mean_relative_humidity</th>\n",
       "      <th>min_wind_speed_of_gust</th>\n",
       "      <th>max_wind_speed_of_gust</th>\n",
       "      <th>mean_wind_speed_of_gust</th>\n",
       "      <th>min_wind_from_direction</th>\n",
       "      <th>max_wind_from_direction</th>\n",
       "      <th>mean_wind_from_direction</th>\n",
       "      <th>min_barometric_pressure</th>\n",
       "      <th>max_barometric_pressure</th>\n",
       "      <th>mean_barometric_pressure</th>\n",
       "      <th>rain</th>\n",
       "    </tr>\n",
       "    <tr>\n",
       "      <th>time</th>\n",
       "      <th></th>\n",
       "      <th></th>\n",
       "      <th></th>\n",
       "      <th></th>\n",
       "      <th></th>\n",
       "      <th></th>\n",
       "      <th></th>\n",
       "      <th></th>\n",
       "      <th></th>\n",
       "      <th></th>\n",
       "      <th></th>\n",
       "      <th></th>\n",
       "      <th></th>\n",
       "      <th></th>\n",
       "      <th></th>\n",
       "      <th></th>\n",
       "      <th></th>\n",
       "      <th></th>\n",
       "      <th></th>\n",
       "    </tr>\n",
       "  </thead>\n",
       "  <tbody>\n",
       "    <tr>\n",
       "      <th>2018-01-07 00:00:00</th>\n",
       "      <td>0.0</td>\n",
       "      <td>0.0</td>\n",
       "      <td>0.0</td>\n",
       "      <td>27.9</td>\n",
       "      <td>28.1</td>\n",
       "      <td>28.061017</td>\n",
       "      <td>88.7</td>\n",
       "      <td>90.4</td>\n",
       "      <td>89.364407</td>\n",
       "      <td>1.3</td>\n",
       "      <td>3.6</td>\n",
       "      <td>2.615254</td>\n",
       "      <td>35.9</td>\n",
       "      <td>92.6</td>\n",
       "      <td>65.345763</td>\n",
       "      <td>982.3</td>\n",
       "      <td>982.9</td>\n",
       "      <td>982.623729</td>\n",
       "      <td>0.0</td>\n",
       "    </tr>\n",
       "    <tr>\n",
       "      <th>2018-01-07 01:00:00</th>\n",
       "      <td>0.0</td>\n",
       "      <td>0.0</td>\n",
       "      <td>0.0</td>\n",
       "      <td>27.8</td>\n",
       "      <td>27.9</td>\n",
       "      <td>27.875000</td>\n",
       "      <td>89.4</td>\n",
       "      <td>90.4</td>\n",
       "      <td>89.790000</td>\n",
       "      <td>0.4</td>\n",
       "      <td>3.6</td>\n",
       "      <td>2.318333</td>\n",
       "      <td>57.2</td>\n",
       "      <td>98.1</td>\n",
       "      <td>72.023333</td>\n",
       "      <td>981.7</td>\n",
       "      <td>982.3</td>\n",
       "      <td>982.025000</td>\n",
       "      <td>0.0</td>\n",
       "    </tr>\n",
       "    <tr>\n",
       "      <th>2018-01-07 02:00:00</th>\n",
       "      <td>0.0</td>\n",
       "      <td>0.0</td>\n",
       "      <td>0.0</td>\n",
       "      <td>27.8</td>\n",
       "      <td>27.9</td>\n",
       "      <td>27.873333</td>\n",
       "      <td>89.1</td>\n",
       "      <td>90.9</td>\n",
       "      <td>89.916667</td>\n",
       "      <td>0.0</td>\n",
       "      <td>2.9</td>\n",
       "      <td>1.378333</td>\n",
       "      <td>0.0</td>\n",
       "      <td>218.5</td>\n",
       "      <td>117.958333</td>\n",
       "      <td>981.1</td>\n",
       "      <td>981.7</td>\n",
       "      <td>981.531667</td>\n",
       "      <td>0.0</td>\n",
       "    </tr>\n",
       "    <tr>\n",
       "      <th>2018-01-07 03:00:00</th>\n",
       "      <td>0.0</td>\n",
       "      <td>0.0</td>\n",
       "      <td>0.0</td>\n",
       "      <td>27.6</td>\n",
       "      <td>27.9</td>\n",
       "      <td>27.735000</td>\n",
       "      <td>90.2</td>\n",
       "      <td>92.3</td>\n",
       "      <td>91.665000</td>\n",
       "      <td>0.0</td>\n",
       "      <td>2.1</td>\n",
       "      <td>0.695000</td>\n",
       "      <td>0.0</td>\n",
       "      <td>263.6</td>\n",
       "      <td>116.876667</td>\n",
       "      <td>980.7</td>\n",
       "      <td>981.1</td>\n",
       "      <td>980.873333</td>\n",
       "      <td>0.0</td>\n",
       "    </tr>\n",
       "    <tr>\n",
       "      <th>2018-01-07 04:00:00</th>\n",
       "      <td>0.0</td>\n",
       "      <td>0.0</td>\n",
       "      <td>0.0</td>\n",
       "      <td>27.5</td>\n",
       "      <td>27.8</td>\n",
       "      <td>27.658333</td>\n",
       "      <td>91.7</td>\n",
       "      <td>94.4</td>\n",
       "      <td>92.973333</td>\n",
       "      <td>0.0</td>\n",
       "      <td>1.8</td>\n",
       "      <td>0.608333</td>\n",
       "      <td>0.0</td>\n",
       "      <td>263.9</td>\n",
       "      <td>61.930000</td>\n",
       "      <td>980.4</td>\n",
       "      <td>980.7</td>\n",
       "      <td>980.555000</td>\n",
       "      <td>0.0</td>\n",
       "    </tr>\n",
       "  </tbody>\n",
       "</table>\n",
       "</div>"
      ],
      "text/plain": [
       "                        ghi                      air_temperature  \\\n",
       "                    min_ghi max_ghi mean_ghi min_air_temperature   \n",
       "time                                                               \n",
       "2018-01-07 00:00:00     0.0     0.0      0.0                27.9   \n",
       "2018-01-07 01:00:00     0.0     0.0      0.0                27.8   \n",
       "2018-01-07 02:00:00     0.0     0.0      0.0                27.8   \n",
       "2018-01-07 03:00:00     0.0     0.0      0.0                27.6   \n",
       "2018-01-07 04:00:00     0.0     0.0      0.0                27.5   \n",
       "\n",
       "                                                              \\\n",
       "                    max_air_temperature mean_air_temperature   \n",
       "time                                                           \n",
       "2018-01-07 00:00:00                28.1            28.061017   \n",
       "2018-01-07 01:00:00                27.9            27.875000   \n",
       "2018-01-07 02:00:00                27.9            27.873333   \n",
       "2018-01-07 03:00:00                27.9            27.735000   \n",
       "2018-01-07 04:00:00                27.8            27.658333   \n",
       "\n",
       "                        relative_humidity                        \\\n",
       "                    min_relative_humidity max_relative_humidity   \n",
       "time                                                              \n",
       "2018-01-07 00:00:00                  88.7                  90.4   \n",
       "2018-01-07 01:00:00                  89.4                  90.4   \n",
       "2018-01-07 02:00:00                  89.1                  90.9   \n",
       "2018-01-07 03:00:00                  90.2                  92.3   \n",
       "2018-01-07 04:00:00                  91.7                  94.4   \n",
       "\n",
       "                                               wind_speed_of_gust  \\\n",
       "                    mean_relative_humidity min_wind_speed_of_gust   \n",
       "time                                                                \n",
       "2018-01-07 00:00:00              89.364407                    1.3   \n",
       "2018-01-07 01:00:00              89.790000                    0.4   \n",
       "2018-01-07 02:00:00              89.916667                    0.0   \n",
       "2018-01-07 03:00:00              91.665000                    0.0   \n",
       "2018-01-07 04:00:00              92.973333                    0.0   \n",
       "\n",
       "                                                                    \\\n",
       "                    max_wind_speed_of_gust mean_wind_speed_of_gust   \n",
       "time                                                                 \n",
       "2018-01-07 00:00:00                    3.6                2.615254   \n",
       "2018-01-07 01:00:00                    3.6                2.318333   \n",
       "2018-01-07 02:00:00                    2.9                1.378333   \n",
       "2018-01-07 03:00:00                    2.1                0.695000   \n",
       "2018-01-07 04:00:00                    1.8                0.608333   \n",
       "\n",
       "                        wind_from_direction                          \\\n",
       "                    min_wind_from_direction max_wind_from_direction   \n",
       "time                                                                  \n",
       "2018-01-07 00:00:00                    35.9                    92.6   \n",
       "2018-01-07 01:00:00                    57.2                    98.1   \n",
       "2018-01-07 02:00:00                     0.0                   218.5   \n",
       "2018-01-07 03:00:00                     0.0                   263.6   \n",
       "2018-01-07 04:00:00                     0.0                   263.9   \n",
       "\n",
       "                                                 barometric_pressure  \\\n",
       "                    mean_wind_from_direction min_barometric_pressure   \n",
       "time                                                                   \n",
       "2018-01-07 00:00:00                65.345763                   982.3   \n",
       "2018-01-07 01:00:00                72.023333                   981.7   \n",
       "2018-01-07 02:00:00               117.958333                   981.1   \n",
       "2018-01-07 03:00:00               116.876667                   980.7   \n",
       "2018-01-07 04:00:00                61.930000                   980.4   \n",
       "\n",
       "                                                                     rain  \n",
       "                    max_barometric_pressure mean_barometric_pressure rain  \n",
       "time                                                                       \n",
       "2018-01-07 00:00:00                   982.9               982.623729  0.0  \n",
       "2018-01-07 01:00:00                   982.3               982.025000  0.0  \n",
       "2018-01-07 02:00:00                   981.7               981.531667  0.0  \n",
       "2018-01-07 03:00:00                   981.1               980.873333  0.0  \n",
       "2018-01-07 04:00:00                   980.7               980.555000  0.0  "
      ]
     },
     "execution_count": 33,
     "metadata": {},
     "output_type": "execute_result"
    }
   ],
   "source": [
    "df_copy.head()"
   ]
  },
  {
   "cell_type": "code",
   "execution_count": 34,
   "metadata": {},
   "outputs": [],
   "source": [
    "# Drop top level\n",
    "df_copy.columns = df_copy.columns.droplevel(0)"
   ]
  },
  {
   "cell_type": "code",
   "execution_count": 35,
   "metadata": {},
   "outputs": [
    {
     "data": {
      "text/html": [
       "<div>\n",
       "<style scoped>\n",
       "    .dataframe tbody tr th:only-of-type {\n",
       "        vertical-align: middle;\n",
       "    }\n",
       "\n",
       "    .dataframe tbody tr th {\n",
       "        vertical-align: top;\n",
       "    }\n",
       "\n",
       "    .dataframe thead th {\n",
       "        text-align: right;\n",
       "    }\n",
       "</style>\n",
       "<table border=\"1\" class=\"dataframe\">\n",
       "  <thead>\n",
       "    <tr style=\"text-align: right;\">\n",
       "      <th></th>\n",
       "      <th>min_ghi</th>\n",
       "      <th>max_ghi</th>\n",
       "      <th>mean_ghi</th>\n",
       "      <th>min_air_temperature</th>\n",
       "      <th>max_air_temperature</th>\n",
       "      <th>mean_air_temperature</th>\n",
       "      <th>min_relative_humidity</th>\n",
       "      <th>max_relative_humidity</th>\n",
       "      <th>mean_relative_humidity</th>\n",
       "      <th>min_wind_speed_of_gust</th>\n",
       "      <th>max_wind_speed_of_gust</th>\n",
       "      <th>mean_wind_speed_of_gust</th>\n",
       "      <th>min_wind_from_direction</th>\n",
       "      <th>max_wind_from_direction</th>\n",
       "      <th>mean_wind_from_direction</th>\n",
       "      <th>min_barometric_pressure</th>\n",
       "      <th>max_barometric_pressure</th>\n",
       "      <th>mean_barometric_pressure</th>\n",
       "      <th>rain</th>\n",
       "    </tr>\n",
       "    <tr>\n",
       "      <th>time</th>\n",
       "      <th></th>\n",
       "      <th></th>\n",
       "      <th></th>\n",
       "      <th></th>\n",
       "      <th></th>\n",
       "      <th></th>\n",
       "      <th></th>\n",
       "      <th></th>\n",
       "      <th></th>\n",
       "      <th></th>\n",
       "      <th></th>\n",
       "      <th></th>\n",
       "      <th></th>\n",
       "      <th></th>\n",
       "      <th></th>\n",
       "      <th></th>\n",
       "      <th></th>\n",
       "      <th></th>\n",
       "      <th></th>\n",
       "    </tr>\n",
       "  </thead>\n",
       "  <tbody>\n",
       "    <tr>\n",
       "      <th>2018-01-07 00:00:00</th>\n",
       "      <td>0.0</td>\n",
       "      <td>0.0</td>\n",
       "      <td>0.0</td>\n",
       "      <td>27.9</td>\n",
       "      <td>28.1</td>\n",
       "      <td>28.061017</td>\n",
       "      <td>88.7</td>\n",
       "      <td>90.4</td>\n",
       "      <td>89.364407</td>\n",
       "      <td>1.3</td>\n",
       "      <td>3.6</td>\n",
       "      <td>2.615254</td>\n",
       "      <td>35.9</td>\n",
       "      <td>92.6</td>\n",
       "      <td>65.345763</td>\n",
       "      <td>982.3</td>\n",
       "      <td>982.9</td>\n",
       "      <td>982.623729</td>\n",
       "      <td>0.0</td>\n",
       "    </tr>\n",
       "    <tr>\n",
       "      <th>2018-01-07 01:00:00</th>\n",
       "      <td>0.0</td>\n",
       "      <td>0.0</td>\n",
       "      <td>0.0</td>\n",
       "      <td>27.8</td>\n",
       "      <td>27.9</td>\n",
       "      <td>27.875000</td>\n",
       "      <td>89.4</td>\n",
       "      <td>90.4</td>\n",
       "      <td>89.790000</td>\n",
       "      <td>0.4</td>\n",
       "      <td>3.6</td>\n",
       "      <td>2.318333</td>\n",
       "      <td>57.2</td>\n",
       "      <td>98.1</td>\n",
       "      <td>72.023333</td>\n",
       "      <td>981.7</td>\n",
       "      <td>982.3</td>\n",
       "      <td>982.025000</td>\n",
       "      <td>0.0</td>\n",
       "    </tr>\n",
       "    <tr>\n",
       "      <th>2018-01-07 02:00:00</th>\n",
       "      <td>0.0</td>\n",
       "      <td>0.0</td>\n",
       "      <td>0.0</td>\n",
       "      <td>27.8</td>\n",
       "      <td>27.9</td>\n",
       "      <td>27.873333</td>\n",
       "      <td>89.1</td>\n",
       "      <td>90.9</td>\n",
       "      <td>89.916667</td>\n",
       "      <td>0.0</td>\n",
       "      <td>2.9</td>\n",
       "      <td>1.378333</td>\n",
       "      <td>0.0</td>\n",
       "      <td>218.5</td>\n",
       "      <td>117.958333</td>\n",
       "      <td>981.1</td>\n",
       "      <td>981.7</td>\n",
       "      <td>981.531667</td>\n",
       "      <td>0.0</td>\n",
       "    </tr>\n",
       "    <tr>\n",
       "      <th>2018-01-07 03:00:00</th>\n",
       "      <td>0.0</td>\n",
       "      <td>0.0</td>\n",
       "      <td>0.0</td>\n",
       "      <td>27.6</td>\n",
       "      <td>27.9</td>\n",
       "      <td>27.735000</td>\n",
       "      <td>90.2</td>\n",
       "      <td>92.3</td>\n",
       "      <td>91.665000</td>\n",
       "      <td>0.0</td>\n",
       "      <td>2.1</td>\n",
       "      <td>0.695000</td>\n",
       "      <td>0.0</td>\n",
       "      <td>263.6</td>\n",
       "      <td>116.876667</td>\n",
       "      <td>980.7</td>\n",
       "      <td>981.1</td>\n",
       "      <td>980.873333</td>\n",
       "      <td>0.0</td>\n",
       "    </tr>\n",
       "    <tr>\n",
       "      <th>2018-01-07 04:00:00</th>\n",
       "      <td>0.0</td>\n",
       "      <td>0.0</td>\n",
       "      <td>0.0</td>\n",
       "      <td>27.5</td>\n",
       "      <td>27.8</td>\n",
       "      <td>27.658333</td>\n",
       "      <td>91.7</td>\n",
       "      <td>94.4</td>\n",
       "      <td>92.973333</td>\n",
       "      <td>0.0</td>\n",
       "      <td>1.8</td>\n",
       "      <td>0.608333</td>\n",
       "      <td>0.0</td>\n",
       "      <td>263.9</td>\n",
       "      <td>61.930000</td>\n",
       "      <td>980.4</td>\n",
       "      <td>980.7</td>\n",
       "      <td>980.555000</td>\n",
       "      <td>0.0</td>\n",
       "    </tr>\n",
       "  </tbody>\n",
       "</table>\n",
       "</div>"
      ],
      "text/plain": [
       "                     min_ghi  max_ghi  mean_ghi  min_air_temperature  \\\n",
       "time                                                                   \n",
       "2018-01-07 00:00:00      0.0      0.0       0.0                 27.9   \n",
       "2018-01-07 01:00:00      0.0      0.0       0.0                 27.8   \n",
       "2018-01-07 02:00:00      0.0      0.0       0.0                 27.8   \n",
       "2018-01-07 03:00:00      0.0      0.0       0.0                 27.6   \n",
       "2018-01-07 04:00:00      0.0      0.0       0.0                 27.5   \n",
       "\n",
       "                     max_air_temperature  mean_air_temperature  \\\n",
       "time                                                             \n",
       "2018-01-07 00:00:00                 28.1             28.061017   \n",
       "2018-01-07 01:00:00                 27.9             27.875000   \n",
       "2018-01-07 02:00:00                 27.9             27.873333   \n",
       "2018-01-07 03:00:00                 27.9             27.735000   \n",
       "2018-01-07 04:00:00                 27.8             27.658333   \n",
       "\n",
       "                     min_relative_humidity  max_relative_humidity  \\\n",
       "time                                                                \n",
       "2018-01-07 00:00:00                   88.7                   90.4   \n",
       "2018-01-07 01:00:00                   89.4                   90.4   \n",
       "2018-01-07 02:00:00                   89.1                   90.9   \n",
       "2018-01-07 03:00:00                   90.2                   92.3   \n",
       "2018-01-07 04:00:00                   91.7                   94.4   \n",
       "\n",
       "                     mean_relative_humidity  min_wind_speed_of_gust  \\\n",
       "time                                                                  \n",
       "2018-01-07 00:00:00               89.364407                     1.3   \n",
       "2018-01-07 01:00:00               89.790000                     0.4   \n",
       "2018-01-07 02:00:00               89.916667                     0.0   \n",
       "2018-01-07 03:00:00               91.665000                     0.0   \n",
       "2018-01-07 04:00:00               92.973333                     0.0   \n",
       "\n",
       "                     max_wind_speed_of_gust  mean_wind_speed_of_gust  \\\n",
       "time                                                                   \n",
       "2018-01-07 00:00:00                     3.6                 2.615254   \n",
       "2018-01-07 01:00:00                     3.6                 2.318333   \n",
       "2018-01-07 02:00:00                     2.9                 1.378333   \n",
       "2018-01-07 03:00:00                     2.1                 0.695000   \n",
       "2018-01-07 04:00:00                     1.8                 0.608333   \n",
       "\n",
       "                     min_wind_from_direction  max_wind_from_direction  \\\n",
       "time                                                                    \n",
       "2018-01-07 00:00:00                     35.9                     92.6   \n",
       "2018-01-07 01:00:00                     57.2                     98.1   \n",
       "2018-01-07 02:00:00                      0.0                    218.5   \n",
       "2018-01-07 03:00:00                      0.0                    263.6   \n",
       "2018-01-07 04:00:00                      0.0                    263.9   \n",
       "\n",
       "                     mean_wind_from_direction  min_barometric_pressure  \\\n",
       "time                                                                     \n",
       "2018-01-07 00:00:00                 65.345763                    982.3   \n",
       "2018-01-07 01:00:00                 72.023333                    981.7   \n",
       "2018-01-07 02:00:00                117.958333                    981.1   \n",
       "2018-01-07 03:00:00                116.876667                    980.7   \n",
       "2018-01-07 04:00:00                 61.930000                    980.4   \n",
       "\n",
       "                     max_barometric_pressure  mean_barometric_pressure  rain  \n",
       "time                                                                          \n",
       "2018-01-07 00:00:00                    982.9                982.623729   0.0  \n",
       "2018-01-07 01:00:00                    982.3                982.025000   0.0  \n",
       "2018-01-07 02:00:00                    981.7                981.531667   0.0  \n",
       "2018-01-07 03:00:00                    981.1                980.873333   0.0  \n",
       "2018-01-07 04:00:00                    980.7                980.555000   0.0  "
      ]
     },
     "execution_count": 35,
     "metadata": {},
     "output_type": "execute_result"
    }
   ],
   "source": [
    "df_copy.head()"
   ]
  },
  {
   "cell_type": "code",
   "execution_count": 36,
   "metadata": {},
   "outputs": [],
   "source": [
    "# Map rain > 0 to 1, else 0\n",
    "df_copy['rain'] = df_copy['rain'].apply(lambda x:1 if x > 0 else 0)"
   ]
  },
  {
   "cell_type": "code",
   "execution_count": 37,
   "metadata": {},
   "outputs": [
    {
     "data": {
      "text/plain": [
       "0    16133\n",
       "1      691\n",
       "Name: rain, dtype: int64"
      ]
     },
     "execution_count": 37,
     "metadata": {},
     "output_type": "execute_result"
    }
   ],
   "source": [
    "df_copy['rain'].value_counts()"
   ]
  },
  {
   "cell_type": "markdown",
   "metadata": {},
   "source": [
    "Let's look at rain distribution for each month"
   ]
  },
  {
   "cell_type": "code",
   "execution_count": 38,
   "metadata": {},
   "outputs": [],
   "source": [
    "df_copy['datetime'] = df_copy.index"
   ]
  },
  {
   "cell_type": "code",
   "execution_count": 39,
   "metadata": {},
   "outputs": [],
   "source": [
    "df_copy['month'] = df_copy['datetime'].apply(lambda x: x.month)"
   ]
  },
  {
   "cell_type": "code",
   "execution_count": 40,
   "metadata": {},
   "outputs": [
    {
     "data": {
      "text/plain": [
       "Text(0.5,1,'Rain throughout Months')"
      ]
     },
     "execution_count": 40,
     "metadata": {},
     "output_type": "execute_result"
    },
    {
     "data": {
      "image/png": "[encoded data removed]",
      "text/plain": [
       "<Figure size 576x360 with 1 Axes>"
      ]
     },
     "metadata": {
      "needs_background": "light"
     },
     "output_type": "display_data"
    }
   ],
   "source": [
    "# plotting Rainfall per Month\n",
    "plt.figure(figsize=(8,5))\n",
    "sns.barplot(x = 'month', y='rain', data=df_copy, color = 'skyblue')\n",
    "plt.box(False)\n",
    "plt.title ('Rain throughout Months', fontweight=\"bold\",fontsize=15)"
   ]
  },
  {
   "cell_type": "markdown",
   "metadata": {},
   "source": [
    "Most of the rainy days were during July & August"
   ]
  },
  {
   "cell_type": "code",
   "execution_count": 45,
   "metadata": {},
   "outputs": [],
   "source": [
    "df_copy.drop(['datetime'], axis=1, inplace=True)"
   ]
  },
  {
   "cell_type": "code",
   "execution_count": 46,
   "metadata": {},
   "outputs": [
    {
     "data": {
      "text/plain": [
       "(16824, 20)"
      ]
     },
     "execution_count": 46,
     "metadata": {},
     "output_type": "execute_result"
    }
   ],
   "source": [
    "df_copy.shape"
   ]
  },
  {
   "cell_type": "markdown",
   "metadata": {},
   "source": [
    "## Create a new column that will be used for prediction"
   ]
  },
  {
   "cell_type": "markdown",
   "metadata": {},
   "source": [
    "##### For each row (hour), check preceding row rain value and assign to column 'rain_next_hour'"
   ]
  },
  {
   "cell_type": "code",
   "execution_count": 47,
   "metadata": {},
   "outputs": [],
   "source": [
    "df_copy['rain_next_hour'] = df_copy['rain'].shift(-1)"
   ]
  },
  {
   "cell_type": "code",
   "execution_count": 48,
   "metadata": {},
   "outputs": [
    {
     "data": {
      "text/html": [
       "<div>\n",
       "<style scoped>\n",
       "    .dataframe tbody tr th:only-of-type {\n",
       "        vertical-align: middle;\n",
       "    }\n",
       "\n",
       "    .dataframe tbody tr th {\n",
       "        vertical-align: top;\n",
       "    }\n",
       "\n",
       "    .dataframe thead th {\n",
       "        text-align: right;\n",
       "    }\n",
       "</style>\n",
       "<table border=\"1\" class=\"dataframe\">\n",
       "  <thead>\n",
       "    <tr style=\"text-align: right;\">\n",
       "      <th></th>\n",
       "      <th>min_ghi</th>\n",
       "      <th>max_ghi</th>\n",
       "      <th>mean_ghi</th>\n",
       "      <th>min_air_temperature</th>\n",
       "      <th>max_air_temperature</th>\n",
       "      <th>mean_air_temperature</th>\n",
       "      <th>min_relative_humidity</th>\n",
       "      <th>max_relative_humidity</th>\n",
       "      <th>mean_relative_humidity</th>\n",
       "      <th>min_wind_speed_of_gust</th>\n",
       "      <th>...</th>\n",
       "      <th>mean_wind_speed_of_gust</th>\n",
       "      <th>min_wind_from_direction</th>\n",
       "      <th>max_wind_from_direction</th>\n",
       "      <th>mean_wind_from_direction</th>\n",
       "      <th>min_barometric_pressure</th>\n",
       "      <th>max_barometric_pressure</th>\n",
       "      <th>mean_barometric_pressure</th>\n",
       "      <th>rain</th>\n",
       "      <th>month</th>\n",
       "      <th>rain_next_hour</th>\n",
       "    </tr>\n",
       "    <tr>\n",
       "      <th>time</th>\n",
       "      <th></th>\n",
       "      <th></th>\n",
       "      <th></th>\n",
       "      <th></th>\n",
       "      <th></th>\n",
       "      <th></th>\n",
       "      <th></th>\n",
       "      <th></th>\n",
       "      <th></th>\n",
       "      <th></th>\n",
       "      <th></th>\n",
       "      <th></th>\n",
       "      <th></th>\n",
       "      <th></th>\n",
       "      <th></th>\n",
       "      <th></th>\n",
       "      <th></th>\n",
       "      <th></th>\n",
       "      <th></th>\n",
       "      <th></th>\n",
       "      <th></th>\n",
       "    </tr>\n",
       "  </thead>\n",
       "  <tbody>\n",
       "    <tr>\n",
       "      <th>2019-12-08 19:00:00</th>\n",
       "      <td>0.0</td>\n",
       "      <td>10.8</td>\n",
       "      <td>0.588333</td>\n",
       "      <td>32.2</td>\n",
       "      <td>32.7</td>\n",
       "      <td>32.425000</td>\n",
       "      <td>81.7</td>\n",
       "      <td>84.8</td>\n",
       "      <td>83.408333</td>\n",
       "      <td>0.0</td>\n",
       "      <td>...</td>\n",
       "      <td>0.436667</td>\n",
       "      <td>0.0</td>\n",
       "      <td>298.9</td>\n",
       "      <td>114.258333</td>\n",
       "      <td>979.2</td>\n",
       "      <td>979.7</td>\n",
       "      <td>979.461667</td>\n",
       "      <td>0</td>\n",
       "      <td>12</td>\n",
       "      <td>0.0</td>\n",
       "    </tr>\n",
       "    <tr>\n",
       "      <th>2019-12-08 20:00:00</th>\n",
       "      <td>0.0</td>\n",
       "      <td>0.0</td>\n",
       "      <td>0.000000</td>\n",
       "      <td>31.5</td>\n",
       "      <td>32.2</td>\n",
       "      <td>31.858333</td>\n",
       "      <td>84.9</td>\n",
       "      <td>87.6</td>\n",
       "      <td>86.418333</td>\n",
       "      <td>0.0</td>\n",
       "      <td>...</td>\n",
       "      <td>0.845000</td>\n",
       "      <td>0.0</td>\n",
       "      <td>268.3</td>\n",
       "      <td>173.698333</td>\n",
       "      <td>979.7</td>\n",
       "      <td>980.4</td>\n",
       "      <td>980.070000</td>\n",
       "      <td>0</td>\n",
       "      <td>12</td>\n",
       "      <td>0.0</td>\n",
       "    </tr>\n",
       "    <tr>\n",
       "      <th>2019-12-08 21:00:00</th>\n",
       "      <td>0.0</td>\n",
       "      <td>0.0</td>\n",
       "      <td>0.000000</td>\n",
       "      <td>31.1</td>\n",
       "      <td>31.5</td>\n",
       "      <td>31.240000</td>\n",
       "      <td>87.6</td>\n",
       "      <td>88.4</td>\n",
       "      <td>88.126667</td>\n",
       "      <td>0.0</td>\n",
       "      <td>...</td>\n",
       "      <td>1.178333</td>\n",
       "      <td>0.0</td>\n",
       "      <td>279.5</td>\n",
       "      <td>226.333333</td>\n",
       "      <td>980.5</td>\n",
       "      <td>981.8</td>\n",
       "      <td>981.220000</td>\n",
       "      <td>0</td>\n",
       "      <td>12</td>\n",
       "      <td>0.0</td>\n",
       "    </tr>\n",
       "    <tr>\n",
       "      <th>2019-12-08 22:00:00</th>\n",
       "      <td>0.0</td>\n",
       "      <td>0.0</td>\n",
       "      <td>0.000000</td>\n",
       "      <td>30.8</td>\n",
       "      <td>31.1</td>\n",
       "      <td>30.941667</td>\n",
       "      <td>87.9</td>\n",
       "      <td>88.4</td>\n",
       "      <td>88.163333</td>\n",
       "      <td>0.0</td>\n",
       "      <td>...</td>\n",
       "      <td>1.460000</td>\n",
       "      <td>0.0</td>\n",
       "      <td>311.1</td>\n",
       "      <td>285.695000</td>\n",
       "      <td>981.6</td>\n",
       "      <td>981.8</td>\n",
       "      <td>981.721667</td>\n",
       "      <td>0</td>\n",
       "      <td>12</td>\n",
       "      <td>0.0</td>\n",
       "    </tr>\n",
       "    <tr>\n",
       "      <th>2019-12-08 23:00:00</th>\n",
       "      <td>0.0</td>\n",
       "      <td>0.0</td>\n",
       "      <td>0.000000</td>\n",
       "      <td>30.5</td>\n",
       "      <td>30.8</td>\n",
       "      <td>30.638333</td>\n",
       "      <td>88.0</td>\n",
       "      <td>89.6</td>\n",
       "      <td>88.615000</td>\n",
       "      <td>0.0</td>\n",
       "      <td>...</td>\n",
       "      <td>1.325000</td>\n",
       "      <td>0.0</td>\n",
       "      <td>359.6</td>\n",
       "      <td>211.495000</td>\n",
       "      <td>981.3</td>\n",
       "      <td>981.6</td>\n",
       "      <td>981.426667</td>\n",
       "      <td>0</td>\n",
       "      <td>12</td>\n",
       "      <td>NaN</td>\n",
       "    </tr>\n",
       "  </tbody>\n",
       "</table>\n",
       "<p>5 rows × 21 columns</p>\n",
       "</div>"
      ],
      "text/plain": [
       "                     min_ghi  max_ghi  mean_ghi  min_air_temperature  \\\n",
       "time                                                                   \n",
       "2019-12-08 19:00:00      0.0     10.8  0.588333                 32.2   \n",
       "2019-12-08 20:00:00      0.0      0.0  0.000000                 31.5   \n",
       "2019-12-08 21:00:00      0.0      0.0  0.000000                 31.1   \n",
       "2019-12-08 22:00:00      0.0      0.0  0.000000                 30.8   \n",
       "2019-12-08 23:00:00      0.0      0.0  0.000000                 30.5   \n",
       "\n",
       "                     max_air_temperature  mean_air_temperature  \\\n",
       "time                                                             \n",
       "2019-12-08 19:00:00                 32.7             32.425000   \n",
       "2019-12-08 20:00:00                 32.2             31.858333   \n",
       "2019-12-08 21:00:00                 31.5             31.240000   \n",
       "2019-12-08 22:00:00                 31.1             30.941667   \n",
       "2019-12-08 23:00:00                 30.8             30.638333   \n",
       "\n",
       "                     min_relative_humidity  max_relative_humidity  \\\n",
       "time                                                                \n",
       "2019-12-08 19:00:00                   81.7                   84.8   \n",
       "2019-12-08 20:00:00                   84.9                   87.6   \n",
       "2019-12-08 21:00:00                   87.6                   88.4   \n",
       "2019-12-08 22:00:00                   87.9                   88.4   \n",
       "2019-12-08 23:00:00                   88.0                   89.6   \n",
       "\n",
       "                     mean_relative_humidity  min_wind_speed_of_gust  \\\n",
       "time                                                                  \n",
       "2019-12-08 19:00:00               83.408333                     0.0   \n",
       "2019-12-08 20:00:00               86.418333                     0.0   \n",
       "2019-12-08 21:00:00               88.126667                     0.0   \n",
       "2019-12-08 22:00:00               88.163333                     0.0   \n",
       "2019-12-08 23:00:00               88.615000                     0.0   \n",
       "\n",
       "                          ...        mean_wind_speed_of_gust  \\\n",
       "time                      ...                                  \n",
       "2019-12-08 19:00:00       ...                       0.436667   \n",
       "2019-12-08 20:00:00       ...                       0.845000   \n",
       "2019-12-08 21:00:00       ...                       1.178333   \n",
       "2019-12-08 22:00:00       ...                       1.460000   \n",
       "2019-12-08 23:00:00       ...                       1.325000   \n",
       "\n",
       "                     min_wind_from_direction  max_wind_from_direction  \\\n",
       "time                                                                    \n",
       "2019-12-08 19:00:00                      0.0                    298.9   \n",
       "2019-12-08 20:00:00                      0.0                    268.3   \n",
       "2019-12-08 21:00:00                      0.0                    279.5   \n",
       "2019-12-08 22:00:00                      0.0                    311.1   \n",
       "2019-12-08 23:00:00                      0.0                    359.6   \n",
       "\n",
       "                     mean_wind_from_direction  min_barometric_pressure  \\\n",
       "time                                                                     \n",
       "2019-12-08 19:00:00                114.258333                    979.2   \n",
       "2019-12-08 20:00:00                173.698333                    979.7   \n",
       "2019-12-08 21:00:00                226.333333                    980.5   \n",
       "2019-12-08 22:00:00                285.695000                    981.6   \n",
       "2019-12-08 23:00:00                211.495000                    981.3   \n",
       "\n",
       "                     max_barometric_pressure  mean_barometric_pressure  rain  \\\n",
       "time                                                                           \n",
       "2019-12-08 19:00:00                    979.7                979.461667     0   \n",
       "2019-12-08 20:00:00                    980.4                980.070000     0   \n",
       "2019-12-08 21:00:00                    981.8                981.220000     0   \n",
       "2019-12-08 22:00:00                    981.8                981.721667     0   \n",
       "2019-12-08 23:00:00                    981.6                981.426667     0   \n",
       "\n",
       "                     month  rain_next_hour  \n",
       "time                                        \n",
       "2019-12-08 19:00:00     12             0.0  \n",
       "2019-12-08 20:00:00     12             0.0  \n",
       "2019-12-08 21:00:00     12             0.0  \n",
       "2019-12-08 22:00:00     12             0.0  \n",
       "2019-12-08 23:00:00     12             NaN  \n",
       "\n",
       "[5 rows x 21 columns]"
      ]
     },
     "execution_count": 48,
     "metadata": {},
     "output_type": "execute_result"
    }
   ],
   "source": [
    "df_copy.tail()"
   ]
  },
  {
   "cell_type": "code",
   "execution_count": 49,
   "metadata": {},
   "outputs": [],
   "source": [
    "# Drop last row, and 'rain' column\n",
    "df_copy.dropna(inplace=True)\n",
    "df_copy.drop(['rain'], axis=1, inplace=True)"
   ]
  },
  {
   "cell_type": "code",
   "execution_count": 50,
   "metadata": {},
   "outputs": [
    {
     "data": {
      "text/plain": [
       "0.0    9559\n",
       "1.0     689\n",
       "Name: rain_next_hour, dtype: int64"
      ]
     },
     "execution_count": 50,
     "metadata": {},
     "output_type": "execute_result"
    }
   ],
   "source": [
    "df_copy['rain_next_hour'].value_counts()"
   ]
  },
  {
   "cell_type": "markdown",
   "metadata": {},
   "source": [
    "# Define Functions"
   ]
  },
  {
   "cell_type": "code",
   "execution_count": 51,
   "metadata": {},
   "outputs": [],
   "source": [
    "# ROC curve\n",
    "def plot_roc(fpr,tpr,roc_auc):\n",
    "    plt.figure()\n",
    "    plt.plot(fpr, tpr, color='darkorange', lw=1, label='ROC curve (area = %0.2f)' % roc_auc)\n",
    "    plt.plot([0, 1], [0, 1], color='navy', lw=1, linestyle='--')\n",
    "    plt.xlim([0.0, 1.0])\n",
    "    plt.ylim([0.0, 1.05])\n",
    "    plt.xlabel('False Positive Rate')\n",
    "    plt.ylabel('True Positive Rate')\n",
    "    plt.title('Receiver operating characteristic')\n",
    "    plt.legend(loc=\"lower right\")\n",
    "    plt.show()"
   ]
  },
  {
   "cell_type": "code",
   "execution_count": 52,
   "metadata": {},
   "outputs": [],
   "source": [
    "# Cross val metric\n",
    "def cross_val_metrics(model) :\n",
    "    scores = ['accuracy', 'precision', 'recall','f1']\n",
    "    for sc in scores:\n",
    "        scores = cross_val_score(model, X, y, cv = 5, scoring = sc)\n",
    "        print('[%s] : %0.5f (+/- %0.5f)'%(sc, scores.mean(), scores.std()))"
   ]
  },
  {
   "cell_type": "markdown",
   "metadata": {},
   "source": [
    "# Prepare Dataset"
   ]
  },
  {
   "cell_type": "code",
   "execution_count": 56,
   "metadata": {},
   "outputs": [],
   "source": [
    "# Split to features and target\n",
    "y = df_copy.rain_next_hour.values\n",
    "X = df_copy.drop('rain_next_hour', axis=1).values"
   ]
  },
  {
   "cell_type": "markdown",
   "metadata": {},
   "source": [
    "### Standard Scaler"
   ]
  },
  {
   "cell_type": "code",
   "execution_count": 58,
   "metadata": {},
   "outputs": [],
   "source": [
    "# Normalization\n",
    "scaler = StandardScaler()\n",
    "X = scaler.fit_transform(X)"
   ]
  },
  {
   "cell_type": "markdown",
   "metadata": {},
   "source": [
    "### Train test split"
   ]
  },
  {
   "cell_type": "code",
   "execution_count": 119,
   "metadata": {},
   "outputs": [],
   "source": [
    "random_state = 42\n",
    "X_train, X_test, y_train, y_test = train_test_split(X, y, test_size = 0.1, random_state = random_state)"
   ]
  },
  {
   "cell_type": "markdown",
   "metadata": {},
   "source": [
    "# Predictive Modeling"
   ]
  },
  {
   "cell_type": "markdown",
   "metadata": {},
   "source": [
    "## Logistic Regression"
   ]
  },
  {
   "cell_type": "code",
   "execution_count": 60,
   "metadata": {},
   "outputs": [
    {
     "name": "stdout",
     "output_type": "stream",
     "text": [
      "Fitting 5 folds for each of 120 candidates, totalling 600 fits\n"
     ]
    },
    {
     "name": "stderr",
     "output_type": "stream",
     "text": [
      "[Parallel(n_jobs=-1)]: Using backend LokyBackend with 12 concurrent workers.\n",
      "[Parallel(n_jobs=-1)]: Done  26 tasks      | elapsed:    0.8s\n"
     ]
    },
    {
     "name": "stdout",
     "output_type": "stream",
     "text": [
      "The best parameters for using this model is {'C': 0.1, 'class_weight': {0: 0.19210526315789472, 1: 0.8078947368421052}, 'penalty': 'l2'}\n"
     ]
    },
    {
     "name": "stderr",
     "output_type": "stream",
     "text": [
      "[Parallel(n_jobs=-1)]: Done 600 out of 600 | elapsed:    1.6s finished\n"
     ]
    }
   ],
   "source": [
    "# Find best hyperparameters (accuracy)\n",
    "log_clf = LogisticRegression(random_state = random_state)\n",
    "\n",
    "weights = np.linspace(0.05, 0.95, 20)\n",
    "\n",
    "param_grid = {\n",
    "            'penalty' : ['l2','l1'],  \n",
    "            'C' : [0.001, 0.01, 0.1],\n",
    "            'class_weight': [{0: x, 1: 1.0-x} for x in weights]\n",
    "            }\n",
    "\n",
    "cv = StratifiedKFold(n_splits=5)\n",
    "\n",
    "CV_log_clf = GridSearchCV(estimator = log_clf,cv = cv ,param_grid = param_grid , scoring = 'f1', verbose = 1, n_jobs = -1)\n",
    "CV_log_clf.fit(X_train, y_train)\n",
    "\n",
    "best_parameters = CV_log_clf.best_params_\n",
    "print('The best parameters for using this model is', best_parameters)\n"
   ]
  },
  {
   "cell_type": "code",
   "execution_count": 61,
   "metadata": {},
   "outputs": [
    {
     "name": "stdout",
     "output_type": "stream",
     "text": [
      "              precision    recall  f1-score   support\n",
      "\n",
      "         0.0       0.98      0.94      0.96      1916\n",
      "         1.0       0.45      0.70      0.55       134\n",
      "\n",
      "    accuracy                           0.92      2050\n",
      "   macro avg       0.71      0.82      0.75      2050\n",
      "weighted avg       0.94      0.92      0.93      2050\n",
      "\n"
     ]
    },
    {
     "data": {
      "image/png": "[encoded data removed]",
      "text/plain": [
       "<Figure size 432x288 with 1 Axes>"
      ]
     },
     "metadata": {
      "needs_background": "light"
     },
     "output_type": "display_data"
    },
    {
     "data": {
      "text/plain": [
       "<matplotlib.axes._subplots.AxesSubplot at 0x223dd760710>"
      ]
     },
     "execution_count": 61,
     "metadata": {},
     "output_type": "execute_result"
    },
    {
     "data": {
      "image/png": "[encoded data removed]",
      "text/plain": [
       "<Figure size 432x288 with 1 Axes>"
      ]
     },
     "metadata": {
      "needs_background": "light"
     },
     "output_type": "display_data"
    }
   ],
   "source": [
    "#Log with best hyperparameters\n",
    "CV_log_clf = LogisticRegression(**best_parameters)\n",
    "CV_log_clf.fit(X_train, y_train)\n",
    "y_pred = CV_log_clf.predict(X_test)\n",
    "y_score = CV_log_clf.predict_proba(X_test)\n",
    "\n",
    "#Classification report\n",
    "print(classification_report(y_test, y_pred))\n",
    "\n",
    "# ROC curve\n",
    "fpr, tpr, thresholds = roc_curve(y_test, y_score[:,1])\n",
    "roc_auc = auc(fpr, tpr)\n",
    "plot_roc(fpr,tpr,roc_auc)\n",
    "\n",
    "# Confusion metrics\n",
    "cm_lr = confusion_matrix(y_test, y_pred)\n",
    "plt.title(\"Logistic Regression\")\n",
    "sns.heatmap(cm_lr,annot=True,cmap=\"Blues\",fmt=\"d\",cbar=False, annot_kws={\"size\": 16})"
   ]
  },
  {
   "cell_type": "markdown",
   "metadata": {},
   "source": [
    "# RFE : Recursive features elimination (19 features => 9 features)"
   ]
  },
  {
   "cell_type": "code",
   "execution_count": 64,
   "metadata": {},
   "outputs": [
    {
     "name": "stdout",
     "output_type": "stream",
     "text": [
      "              precision    recall  f1-score   support\n",
      "\n",
      "         0.0       0.98      0.94      0.96      1916\n",
      "         1.0       0.45      0.70      0.55       134\n",
      "\n",
      "    accuracy                           0.92      2050\n",
      "   macro avg       0.71      0.82      0.75      2050\n",
      "weighted avg       0.94      0.92      0.93      2050\n",
      "\n"
     ]
    },
    {
     "data": {
      "image/png": "[encoded data removed]",
      "text/plain": [
       "<Figure size 432x288 with 1 Axes>"
      ]
     },
     "metadata": {
      "needs_background": "light"
     },
     "output_type": "display_data"
    },
    {
     "data": {
      "text/plain": [
       "<matplotlib.axes._subplots.AxesSubplot at 0x223d5b7d470>"
      ]
     },
     "execution_count": 64,
     "metadata": {},
     "output_type": "execute_result"
    },
    {
     "data": {
      "image/png": "[encoded data removed]",
      "text/plain": [
       "<Figure size 432x288 with 1 Axes>"
      ]
     },
     "metadata": {
      "needs_background": "light"
     },
     "output_type": "display_data"
    }
   ],
   "source": [
    "#Logistic regression with RFE\n",
    "log_clf = LogisticRegression(**best_parameters)\n",
    "\n",
    "selector = RFE(log_clf)\n",
    "selector = selector.fit(X_train, y_train)\n",
    "\n",
    "y_pred = selector.predict(X_test)\n",
    "y_score = selector.predict_proba(X_test)\n",
    "\n",
    "\n",
    "#Classification report\n",
    "print(classification_report(y_test, y_pred))\n",
    "\n",
    "# ROC curve\n",
    "fpr, tpr, thresholds = roc_curve(y_test, y_score[:,1])\n",
    "roc_auc = auc(fpr, tpr)\n",
    "plot_roc(fpr,tpr,roc_auc)\n",
    "\n",
    "# Confusion metrics\n",
    "cm_lr = confusion_matrix(y_test, y_pred)\n",
    "plt.title(\"Logistic Regression\")\n",
    "sns.heatmap(cm_lr,annot=True,cmap=\"Blues\",fmt=\"d\",cbar=False, annot_kws={\"size\": 16})"
   ]
  },
  {
   "cell_type": "code",
   "execution_count": 65,
   "metadata": {},
   "outputs": [
    {
     "name": "stdout",
     "output_type": "stream",
     "text": [
      "[ True  True False False False False  True  True  True False  True False\n",
      " False  True False  True False  True False]\n",
      "[ 1  1  2  6  9 11  1  1  1  7  1  8  3  1 10  1  5  1  4]\n"
     ]
    }
   ],
   "source": [
    "# support and ranking RFE\n",
    "print(selector.support_)\n",
    "print(selector.ranking_)"
   ]
  },
  {
   "cell_type": "code",
   "execution_count": 66,
   "metadata": {},
   "outputs": [
    {
     "name": "stdout",
     "output_type": "stream",
     "text": [
      "[accuracy] : 0.90720 (+/- 0.06121)\n",
      "[precision] : 0.50587 (+/- 0.20224)\n",
      "[recall] : 0.56598 (+/- 0.14361)\n",
      "[f1] : 0.48904 (+/- 0.12360)\n"
     ]
    }
   ],
   "source": [
    "# Cross val Log \n",
    "cross_log = cross_val_metrics(CV_log_clf)"
   ]
  },
  {
   "cell_type": "code",
   "execution_count": 67,
   "metadata": {
    "scrolled": true
   },
   "outputs": [
    {
     "name": "stdout",
     "output_type": "stream",
     "text": [
      "[accuracy] : 0.90506 (+/- 0.06075)\n",
      "[precision] : 0.51050 (+/- 0.21073)\n",
      "[recall] : 0.56597 (+/- 0.14918)\n",
      "[f1] : 0.48079 (+/- 0.12357)\n"
     ]
    }
   ],
   "source": [
    "# Cross val Log with RFE\n",
    "cross_selector = cross_val_metrics(selector)"
   ]
  },
  {
   "cell_type": "markdown",
   "metadata": {},
   "source": [
    "## Linear Support Vector Machine(linear-SVM)"
   ]
  },
  {
   "cell_type": "code",
   "execution_count": 68,
   "metadata": {},
   "outputs": [
    {
     "name": "stdout",
     "output_type": "stream",
     "text": [
      "              precision    recall  f1-score   support\n",
      "\n",
      "         0.0       0.93      1.00      0.97      1916\n",
      "         1.0       0.00      0.00      0.00       134\n",
      "\n",
      "    accuracy                           0.93      2050\n",
      "   macro avg       0.47      0.50      0.48      2050\n",
      "weighted avg       0.87      0.93      0.90      2050\n",
      "\n"
     ]
    },
    {
     "data": {
      "image/png": "[encoded data removed]",
      "text/plain": [
       "<Figure size 432x288 with 1 Axes>"
      ]
     },
     "metadata": {
      "needs_background": "light"
     },
     "output_type": "display_data"
    },
    {
     "data": {
      "text/plain": [
       "<matplotlib.axes._subplots.AxesSubplot at 0x223d5b826d8>"
      ]
     },
     "execution_count": 68,
     "metadata": {},
     "output_type": "execute_result"
    },
    {
     "data": {
      "image/png": "[encoded data removed]",
      "text/plain": [
       "<Figure size 432x288 with 1 Axes>"
      ]
     },
     "metadata": {
      "needs_background": "light"
     },
     "output_type": "display_data"
    }
   ],
   "source": [
    "lsvm = svm.SVC(kernel='linear',C=0.1,gamma=0.1, probability=True)\n",
    "\n",
    "lsvm.fit(X_train, y_train)\n",
    "y_pred = lsvm.predict(X_test)\n",
    "y_score = lsvm.predict_proba(X_test)\n",
    "\n",
    "#Classification report\n",
    "print(classification_report(y_test, y_pred))\n",
    "\n",
    "# ROC curve\n",
    "fpr, tpr, thresholds = roc_curve(y_test, y_score[:,1])\n",
    "roc_auc = auc(fpr, tpr)\n",
    "plot_roc(fpr,tpr,roc_auc)\n",
    "\n",
    "# Confusion metrics\n",
    "cm_lsvm = confusion_matrix(y_test, y_pred)\n",
    "plt.title(\"Linear Support Vector\")\n",
    "sns.heatmap(cm_lsvm,annot=True,cmap=\"Blues\",fmt=\"d\",cbar=False, annot_kws={\"size\": 16})"
   ]
  },
  {
   "cell_type": "markdown",
   "metadata": {},
   "source": [
    "## Radial Support Vector Machines(rbf-SVM)"
   ]
  },
  {
   "cell_type": "code",
   "execution_count": 69,
   "metadata": {},
   "outputs": [
    {
     "name": "stdout",
     "output_type": "stream",
     "text": [
      "              precision    recall  f1-score   support\n",
      "\n",
      "         0.0       0.95      0.99      0.97      1916\n",
      "         1.0       0.68      0.25      0.37       134\n",
      "\n",
      "    accuracy                           0.94      2050\n",
      "   macro avg       0.81      0.62      0.67      2050\n",
      "weighted avg       0.93      0.94      0.93      2050\n",
      "\n"
     ]
    },
    {
     "data": {
      "image/png": "[encoded data removed]",
      "text/plain": [
       "<Figure size 432x288 with 1 Axes>"
      ]
     },
     "metadata": {
      "needs_background": "light"
     },
     "output_type": "display_data"
    },
    {
     "data": {
      "text/plain": [
       "<matplotlib.axes._subplots.AxesSubplot at 0x223d5b5f748>"
      ]
     },
     "execution_count": 69,
     "metadata": {},
     "output_type": "execute_result"
    },
    {
     "data": {
      "image/png": "[encoded data removed]",
      "text/plain": [
       "<Figure size 432x288 with 1 Axes>"
      ]
     },
     "metadata": {
      "needs_background": "light"
     },
     "output_type": "display_data"
    }
   ],
   "source": [
    "rsvm = svm.SVC(kernel='rbf',C=1,gamma=0.1, probability=True)\n",
    "\n",
    "rsvm.fit(X_train, y_train)\n",
    "y_pred = rsvm.predict(X_test)\n",
    "y_score = rsvm.predict_proba(X_test)\n",
    "\n",
    "#Classification report\n",
    "print(classification_report(y_test, y_pred))\n",
    "\n",
    "# ROC curve\n",
    "fpr, tpr, thresholds = roc_curve(y_test, y_score[:,1])\n",
    "roc_auc = auc(fpr, tpr)\n",
    "plot_roc(fpr,tpr,roc_auc)\n",
    "\n",
    "# Confusion metrics\n",
    "cm_rsvm = confusion_matrix(y_test, y_pred)\n",
    "plt.title(\"Radial Support Vector\")\n",
    "sns.heatmap(cm_rsvm,annot=True,cmap=\"Blues\",fmt=\"d\",cbar=False, annot_kws={\"size\": 16})"
   ]
  },
  {
   "cell_type": "markdown",
   "metadata": {},
   "source": [
    "## Decision Tree"
   ]
  },
  {
   "cell_type": "code",
   "execution_count": 70,
   "metadata": {},
   "outputs": [
    {
     "name": "stdout",
     "output_type": "stream",
     "text": [
      "              precision    recall  f1-score   support\n",
      "\n",
      "         0.0       0.96      0.95      0.96      1916\n",
      "         1.0       0.40      0.48      0.43       134\n",
      "\n",
      "    accuracy                           0.92      2050\n",
      "   macro avg       0.68      0.71      0.70      2050\n",
      "weighted avg       0.93      0.92      0.92      2050\n",
      "\n"
     ]
    },
    {
     "data": {
      "image/png": "[encoded data removed]",
      "text/plain": [
       "<Figure size 432x288 with 1 Axes>"
      ]
     },
     "metadata": {
      "needs_background": "light"
     },
     "output_type": "display_data"
    },
    {
     "data": {
      "text/plain": [
       "<matplotlib.axes._subplots.AxesSubplot at 0x223d5dbb3c8>"
      ]
     },
     "execution_count": 70,
     "metadata": {},
     "output_type": "execute_result"
    },
    {
     "data": {
      "image/png": "[encoded data removed]",
      "text/plain": [
       "<Figure size 432x288 with 1 Axes>"
      ]
     },
     "metadata": {
      "needs_background": "light"
     },
     "output_type": "display_data"
    }
   ],
   "source": [
    "dt = DecisionTreeClassifier(random_state=42)\n",
    "\n",
    "dt.fit(X_train, y_train)\n",
    "y_pred = dt.predict(X_test)\n",
    "y_score = dt.predict_proba(X_test)\n",
    "\n",
    "#Classification report\n",
    "print(classification_report(y_test, y_pred))\n",
    "\n",
    "# ROC curve\n",
    "fpr, tpr, thresholds = roc_curve(y_test, y_score[:,1])\n",
    "roc_auc = auc(fpr, tpr)\n",
    "plot_roc(fpr,tpr,roc_auc)\n",
    "\n",
    "# Confusion metrics\n",
    "cm_dt = confusion_matrix(y_test, y_pred)\n",
    "plt.title(\"Decision Tree\")\n",
    "sns.heatmap(cm_dt,annot=True,cmap=\"Blues\",fmt=\"d\",cbar=False, annot_kws={\"size\": 16})"
   ]
  },
  {
   "cell_type": "markdown",
   "metadata": {},
   "source": [
    "## K-Nearest Neighbours(KNN)"
   ]
  },
  {
   "cell_type": "code",
   "execution_count": 71,
   "metadata": {},
   "outputs": [
    {
     "name": "stdout",
     "output_type": "stream",
     "text": [
      "              precision    recall  f1-score   support\n",
      "\n",
      "         0.0       0.96      0.99      0.97      1916\n",
      "         1.0       0.67      0.40      0.50       134\n",
      "\n",
      "    accuracy                           0.95      2050\n",
      "   macro avg       0.81      0.69      0.74      2050\n",
      "weighted avg       0.94      0.95      0.94      2050\n",
      "\n"
     ]
    },
    {
     "data": {
      "image/png": "[encoded data removed]",
      "text/plain": [
       "<Figure size 432x288 with 1 Axes>"
      ]
     },
     "metadata": {
      "needs_background": "light"
     },
     "output_type": "display_data"
    },
    {
     "data": {
      "text/plain": [
       "<matplotlib.axes._subplots.AxesSubplot at 0x223d5b44908>"
      ]
     },
     "execution_count": 71,
     "metadata": {},
     "output_type": "execute_result"
    },
    {
     "data": {
      "image/png": "[encoded data removed]",
      "text/plain": [
       "<Figure size 432x288 with 1 Axes>"
      ]
     },
     "metadata": {
      "needs_background": "light"
     },
     "output_type": "display_data"
    }
   ],
   "source": [
    "knn = KNeighborsClassifier()\n",
    "\n",
    "knn.fit(X_train, y_train)\n",
    "y_pred = knn.predict(X_test)\n",
    "y_score = knn.predict_proba(X_test)\n",
    "\n",
    "\n",
    "#Classification report\n",
    "print(classification_report(y_test, y_pred))\n",
    "\n",
    "# ROC curve\n",
    "fpr, tpr, thresholds = roc_curve(y_test, y_score[:,1])\n",
    "roc_auc = auc(fpr, tpr)\n",
    "plot_roc(fpr,tpr,roc_auc)\n",
    "\n",
    "# Confusion metrics\n",
    "cm_knn = confusion_matrix(y_test, y_pred)\n",
    "plt.title(\"KNN\")\n",
    "sns.heatmap(cm_knn,annot=True,cmap=\"Blues\",fmt=\"d\",cbar=False, annot_kws={\"size\": 16})"
   ]
  },
  {
   "cell_type": "markdown",
   "metadata": {},
   "source": [
    "## Random Forest"
   ]
  },
  {
   "cell_type": "code",
   "execution_count": 72,
   "metadata": {},
   "outputs": [
    {
     "name": "stdout",
     "output_type": "stream",
     "text": [
      "              precision    recall  f1-score   support\n",
      "\n",
      "         0.0       0.96      0.99      0.97      1916\n",
      "         1.0       0.70      0.44      0.54       134\n",
      "\n",
      "    accuracy                           0.95      2050\n",
      "   macro avg       0.83      0.71      0.76      2050\n",
      "weighted avg       0.94      0.95      0.95      2050\n",
      "\n"
     ]
    },
    {
     "data": {
      "image/png": "[encoded data removed]",
      "text/plain": [
       "<Figure size 432x288 with 1 Axes>"
      ]
     },
     "metadata": {
      "needs_background": "light"
     },
     "output_type": "display_data"
    },
    {
     "data": {
      "text/plain": [
       "<matplotlib.axes._subplots.AxesSubplot at 0x223dde99668>"
      ]
     },
     "execution_count": 72,
     "metadata": {},
     "output_type": "execute_result"
    },
    {
     "data": {
      "image/png": "[encoded data removed]",
      "text/plain": [
       "<Figure size 432x288 with 1 Axes>"
      ]
     },
     "metadata": {
      "needs_background": "light"
     },
     "output_type": "display_data"
    }
   ],
   "source": [
    "rfc = RandomForestClassifier(n_estimators=100)\n",
    "rfc.fit(X_train, y_train)\n",
    "y_pred = rfc.predict(X_test)\n",
    "y_score = rfc.predict_proba(X_test)\n",
    "\n",
    "\n",
    "#Classification report\n",
    "print(classification_report(y_test, y_pred))\n",
    "\n",
    "# ROC curve\n",
    "fpr, tpr, thresholds = roc_curve(y_test, y_score[:,1])\n",
    "roc_auc = auc(fpr, tpr)\n",
    "plot_roc(fpr,tpr,roc_auc)\n",
    "\n",
    "# Confusion metrics\n",
    "cm_rfc = confusion_matrix(y_test, y_pred)\n",
    "plt.title(\"Random Forest\")\n",
    "sns.heatmap(cm_rfc,annot=True,cmap=\"Blues\",fmt=\"d\",cbar=False, annot_kws={\"size\": 16})"
   ]
  },
  {
   "cell_type": "code",
   "execution_count": 73,
   "metadata": {},
   "outputs": [
    {
     "data": {
      "image/png": "[encoded data removed]",
      "text/plain": [
       "<Figure size 1728x864 with 6 Axes>"
      ]
     },
     "metadata": {
      "needs_background": "light"
     },
     "output_type": "display_data"
    }
   ],
   "source": [
    "plt.figure(figsize=(24,12))\n",
    "\n",
    "plt.suptitle(\"Confusion Matrices\",fontsize=24)\n",
    "plt.subplots_adjust(wspace = 0.4, hspace= 0.4)\n",
    "\n",
    "plt.subplot(2,3,1)\n",
    "plt.title(\"Logistic Regression Confusion Matrix\")\n",
    "sns.heatmap(cm_lr,annot=True,cmap=\"Blues\",fmt=\"d\",cbar=False, annot_kws={\"size\": 24})\n",
    "\n",
    "plt.subplot(2,3,2)\n",
    "plt.title(\"Linear SVM Confusion Matrix\")\n",
    "sns.heatmap(cm_lsvm,annot=True,cmap=\"Blues\",fmt=\"d\",cbar=False, annot_kws={\"size\": 24})\n",
    "\n",
    "plt.subplot(2,3,3)\n",
    "plt.title(\"Radial SVM Confusion Matrix\")\n",
    "sns.heatmap(cm_rsvm,annot=True,cmap=\"Blues\",fmt=\"d\",cbar=False, annot_kws={\"size\": 24})\n",
    "\n",
    "plt.subplot(2,3,4)\n",
    "plt.title(\"Decision Tree Confusion Matrix\")\n",
    "sns.heatmap(cm_dt,annot=True,cmap=\"Blues\",fmt=\"d\",cbar=False, annot_kws={\"size\": 24})\n",
    "\n",
    "plt.subplot(2,3,5)\n",
    "plt.title(\"KNN Classifier Confusion Matrix\")\n",
    "sns.heatmap(cm_knn,annot=True,cmap=\"Blues\",fmt=\"d\",cbar=False, annot_kws={\"size\": 24})\n",
    "\n",
    "plt.subplot(2,3,6)\n",
    "plt.title(\"Random Forest Confusion Matrix\")\n",
    "sns.heatmap(cm_rfc,annot=True,cmap=\"Blues\",fmt=\"d\",cbar=False, annot_kws={\"size\": 24})\n",
    "\n",
    "plt.show()"
   ]
  },
  {
   "cell_type": "markdown",
   "metadata": {},
   "source": [
    "# Random Forest hyperparameters tuning"
   ]
  },
  {
   "cell_type": "code",
   "execution_count": 120,
   "metadata": {},
   "outputs": [
    {
     "data": {
      "text/plain": [
       "GridSearchCV(cv=StratifiedKFold(n_splits=5, random_state=None, shuffle=False),\n",
       "             error_score=nan,\n",
       "             estimator=RandomForestClassifier(bootstrap=True, ccp_alpha=0.0,\n",
       "                                              class_weight=None,\n",
       "                                              criterion='gini', max_depth=None,\n",
       "                                              max_features='auto',\n",
       "                                              max_leaf_nodes=None,\n",
       "                                              max_samples=None,\n",
       "                                              min_impurity_decrease=0.0,\n",
       "                                              min_impurity_split=None,\n",
       "                                              min_samples_leaf=1,\n",
       "                                              min_samples_split=2,\n",
       "                                              min_weight_fraction_leaf=0.0,\n",
       "                                              n_estimators=100, n_jobs=None,\n",
       "                                              oob_score=False, random_state=42,\n",
       "                                              verbose=0, warm_start=False),\n",
       "             iid='deprecated', n_jobs=None,\n",
       "             param_grid={'class_weight': [None, 'balanced'],\n",
       "                         'max_depth': [4, 5, 6, 7, 8, 9],\n",
       "                         'n_estimators': [100, 200, 500]},\n",
       "             pre_dispatch='2*n_jobs', refit=True, return_train_score=False,\n",
       "             scoring=make_scorer(f1_score, pos_label=1), verbose=0)"
      ]
     },
     "execution_count": 120,
     "metadata": {},
     "output_type": "execute_result"
    }
   ],
   "source": [
    "from sklearn.metrics import f1_score\n",
    "from sklearn.metrics import make_scorer\n",
    "\n",
    "clf = RandomForestClassifier(random_state = random_state)\n",
    "\n",
    "f1_scorer = make_scorer(f1_score, pos_label=1)\n",
    "\n",
    "\n",
    "param_grid = { \n",
    "    'n_estimators': [100, 200, 500],\n",
    "    'max_depth' : [4,5,6,7,8,9],\n",
    "    'class_weight': [None, 'balanced']   \n",
    "}\n",
    "\n",
    "CV_rfc = GridSearchCV(estimator=clf, param_grid=param_grid, cv= cv, scoring=f1_scorer)\n",
    "CV_rfc.fit(X_train, y_train)"
   ]
  },
  {
   "cell_type": "code",
   "execution_count": 121,
   "metadata": {},
   "outputs": [
    {
     "name": "stdout",
     "output_type": "stream",
     "text": [
      "{'class_weight': 'balanced', 'max_depth': 9, 'n_estimators': 100}\n"
     ]
    }
   ],
   "source": [
    "print(CV_rfc.best_params_)"
   ]
  },
  {
   "cell_type": "code",
   "execution_count": 122,
   "metadata": {},
   "outputs": [
    {
     "name": "stdout",
     "output_type": "stream",
     "text": [
      "              precision    recall  f1-score   support\n",
      "\n",
      "         0.0       0.98      0.92      0.95       957\n",
      "         1.0       0.40      0.75      0.53        68\n",
      "\n",
      "    accuracy                           0.91      1025\n",
      "   macro avg       0.69      0.84      0.74      1025\n",
      "weighted avg       0.94      0.91      0.92      1025\n",
      "\n"
     ]
    },
    {
     "data": {
      "image/png": "[encoded data removed]",
      "text/plain": [
       "<Figure size 432x288 with 1 Axes>"
      ]
     },
     "metadata": {
      "needs_background": "light"
     },
     "output_type": "display_data"
    },
    {
     "data": {
      "text/plain": [
       "<matplotlib.axes._subplots.AxesSubplot at 0x223dec74898>"
      ]
     },
     "execution_count": 122,
     "metadata": {},
     "output_type": "execute_result"
    },
    {
     "data": {
      "image/png": "[encoded data removed]",
      "text/plain": [
       "<Figure size 432x288 with 1 Axes>"
      ]
     },
     "metadata": {
      "needs_background": "light"
     },
     "output_type": "display_data"
    }
   ],
   "source": [
    "rfc_tuned = RandomForestClassifier(**CV_rfc.best_params_)\n",
    "rfc_tuned.fit(X_train, y_train)\n",
    "y_pred = rfc_tuned.predict(X_test)\n",
    "y_score = rfc_tuned.predict_proba(X_test)\n",
    "\n",
    "\n",
    "#Classification report\n",
    "print(classification_report(y_test, y_pred))\n",
    "\n",
    "# ROC curve\n",
    "fpr, tpr, thresholds = roc_curve(y_test, y_score[:,1])\n",
    "roc_auc = auc(fpr, tpr)\n",
    "plot_roc(fpr,tpr,roc_auc)\n",
    "\n",
    "# Confusion metrics\n",
    "cm_rfc = confusion_matrix(y_test, y_pred)\n",
    "plt.title(\"Random Forest\")\n",
    "sns.heatmap(cm_rfc,annot=True,cmap=\"Blues\",fmt=\"d\",cbar=False, annot_kws={\"size\": 16})"
   ]
  },
  {
   "cell_type": "markdown",
   "metadata": {},
   "source": [
    "### The results are pretty satisfying\n",
    "#### Let's use this model and save both the model and the scaler"
   ]
  },
  {
   "cell_type": "code",
   "execution_count": 84,
   "metadata": {},
   "outputs": [],
   "source": [
    "import pickle\n",
    "# pickle the model file\n",
    "with open('model', 'wb') as file:\n",
    "    pickle.dump(rfc_tuned, file)"
   ]
  },
  {
   "cell_type": "code",
   "execution_count": 85,
   "metadata": {},
   "outputs": [],
   "source": [
    "# pickle the scaler file\n",
    "with open('scaler','wb') as file:\n",
    "    pickle.dump(scaler, file)"
   ]
  }
 ],
 "metadata": {
  "kernelspec": {
   "display_name": "Python 3",
   "language": "python",
   "name": "python3"
  },
  "language_info": {
   "codemirror_mode": {
    "name": "ipython",
    "version": 3
   },
   "file_extension": ".py",
   "mimetype": "text/x-python",
   "name": "python",
   "nbconvert_exporter": "python",
   "pygments_lexer": "ipython3",
   "version": "3.7.0"
  }
 },
 "nbformat": 4,
 "nbformat_minor": 2
}
